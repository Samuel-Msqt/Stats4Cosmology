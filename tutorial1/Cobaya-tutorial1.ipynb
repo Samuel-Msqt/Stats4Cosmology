{
  "cells": [
    {
      "cell_type": "markdown",
      "metadata": {
        "id": "view-in-github",
        "colab_type": "text"
      },
      "source": [
        "<a href=\"https://colab.research.google.com/github/Samuel-Msqt/Stats4Cosmology/blob/main/tutorial1/Cobaya-tutorial1.ipynb\" target=\"_parent\"><img src=\"https://colab.research.google.com/assets/colab-badge.svg\" alt=\"Open In Colab\"/></a>"
      ]
    },
    {
      "cell_type": "code",
      "execution_count": 7,
      "metadata": {
        "id": "qR4M6m9EL33h"
      },
      "outputs": [],
      "source": [
        "# General python imports\n",
        "import numpy as np\n",
        "import matplotlib.pyplot as plt\n",
        "from scipy import stats\n",
        "\n",
        "%matplotlib inline\n",
        "%config InlineBackend.figure_format = 'retina'"
      ]
    },
    {
      "cell_type": "code",
      "source": [
        "!pip install cobaya"
      ],
      "metadata": {
        "colab": {
          "base_uri": "https://localhost:8080/"
        },
        "id": "hr_mZhQGL6hr",
        "outputId": "297f57fa-b333-4ec7-cdc3-336e0d0c6504"
      },
      "execution_count": 8,
      "outputs": [
        {
          "output_type": "stream",
          "name": "stdout",
          "text": [
            "Requirement already satisfied: cobaya in /usr/local/lib/python3.12/dist-packages (3.5.7)\n",
            "Requirement already satisfied: numpy>=1.17.0 in /usr/local/lib/python3.12/dist-packages (from cobaya) (2.0.2)\n",
            "Requirement already satisfied: scipy>=1.5 in /usr/local/lib/python3.12/dist-packages (from cobaya) (1.16.1)\n",
            "Requirement already satisfied: pandas>=1.0.1 in /usr/local/lib/python3.12/dist-packages (from cobaya) (2.2.2)\n",
            "Requirement already satisfied: PyYAML>=5.1 in /usr/local/lib/python3.12/dist-packages (from cobaya) (6.0.2)\n",
            "Requirement already satisfied: requests>=2.18 in /usr/local/lib/python3.12/dist-packages (from cobaya) (2.32.4)\n",
            "Requirement already satisfied: py-bobyqa>=1.4 in /usr/local/lib/python3.12/dist-packages (from cobaya) (1.5.0)\n",
            "Requirement already satisfied: GetDist>=1.3.1 in /usr/local/lib/python3.12/dist-packages (from cobaya) (1.7.2)\n",
            "Requirement already satisfied: fuzzywuzzy>=0.17 in /usr/local/lib/python3.12/dist-packages (from cobaya) (0.18.0)\n",
            "Requirement already satisfied: packaging in /usr/local/lib/python3.12/dist-packages (from cobaya) (25.0)\n",
            "Requirement already satisfied: tqdm in /usr/local/lib/python3.12/dist-packages (from cobaya) (4.67.1)\n",
            "Requirement already satisfied: portalocker>=2.3.0 in /usr/local/lib/python3.12/dist-packages (from cobaya) (3.2.0)\n",
            "Requirement already satisfied: dill>=0.3.3 in /usr/local/lib/python3.12/dist-packages (from cobaya) (0.3.8)\n",
            "Requirement already satisfied: typing_extensions in /usr/local/lib/python3.12/dist-packages (from cobaya) (4.15.0)\n",
            "Requirement already satisfied: matplotlib!=3.5.0,>=2.2.0 in /usr/local/lib/python3.12/dist-packages (from GetDist>=1.3.1->cobaya) (3.10.0)\n",
            "Requirement already satisfied: python-dateutil>=2.8.2 in /usr/local/lib/python3.12/dist-packages (from pandas>=1.0.1->cobaya) (2.9.0.post0)\n",
            "Requirement already satisfied: pytz>=2020.1 in /usr/local/lib/python3.12/dist-packages (from pandas>=1.0.1->cobaya) (2025.2)\n",
            "Requirement already satisfied: tzdata>=2022.7 in /usr/local/lib/python3.12/dist-packages (from pandas>=1.0.1->cobaya) (2025.2)\n",
            "Requirement already satisfied: setuptools in /usr/local/lib/python3.12/dist-packages (from py-bobyqa>=1.4->cobaya) (75.2.0)\n",
            "Requirement already satisfied: charset_normalizer<4,>=2 in /usr/local/lib/python3.12/dist-packages (from requests>=2.18->cobaya) (3.4.3)\n",
            "Requirement already satisfied: idna<4,>=2.5 in /usr/local/lib/python3.12/dist-packages (from requests>=2.18->cobaya) (3.10)\n",
            "Requirement already satisfied: urllib3<3,>=1.21.1 in /usr/local/lib/python3.12/dist-packages (from requests>=2.18->cobaya) (2.5.0)\n",
            "Requirement already satisfied: certifi>=2017.4.17 in /usr/local/lib/python3.12/dist-packages (from requests>=2.18->cobaya) (2025.8.3)\n",
            "Requirement already satisfied: contourpy>=1.0.1 in /usr/local/lib/python3.12/dist-packages (from matplotlib!=3.5.0,>=2.2.0->GetDist>=1.3.1->cobaya) (1.3.3)\n",
            "Requirement already satisfied: cycler>=0.10 in /usr/local/lib/python3.12/dist-packages (from matplotlib!=3.5.0,>=2.2.0->GetDist>=1.3.1->cobaya) (0.12.1)\n",
            "Requirement already satisfied: fonttools>=4.22.0 in /usr/local/lib/python3.12/dist-packages (from matplotlib!=3.5.0,>=2.2.0->GetDist>=1.3.1->cobaya) (4.59.1)\n",
            "Requirement already satisfied: kiwisolver>=1.3.1 in /usr/local/lib/python3.12/dist-packages (from matplotlib!=3.5.0,>=2.2.0->GetDist>=1.3.1->cobaya) (1.4.9)\n",
            "Requirement already satisfied: pillow>=8 in /usr/local/lib/python3.12/dist-packages (from matplotlib!=3.5.0,>=2.2.0->GetDist>=1.3.1->cobaya) (11.3.0)\n",
            "Requirement already satisfied: pyparsing>=2.3.1 in /usr/local/lib/python3.12/dist-packages (from matplotlib!=3.5.0,>=2.2.0->GetDist>=1.3.1->cobaya) (3.2.3)\n",
            "Requirement already satisfied: six>=1.5 in /usr/local/lib/python3.12/dist-packages (from python-dateutil>=2.8.2->pandas>=1.0.1->cobaya) (1.17.0)\n"
          ]
        }
      ]
    },
    {
      "cell_type": "code",
      "source": [
        "!cobaya-install cosmo -p ."
      ],
      "metadata": {
        "colab": {
          "base_uri": "https://localhost:8080/"
        },
        "id": "gVyrKTX8L9p_",
        "outputId": "d93bdda2-3d98-4f32-d05d-f33cef910474"
      },
      "execution_count": 9,
      "outputs": [
        {
          "output_type": "stream",
          "name": "stdout",
          "text": [
            "[install] Installing basic cosmological packages.\n",
            "[install] Installing external packages at '/content'\n",
            "[install] The installation path has been written into the global config file: /root/.config/cobaya/config.yaml\n",
            "\n",
            "================================================================================\n",
            "theory:camb\n",
            "================================================================================\n",
            "\n",
            "[install] Checking if dependencies have already been installed...\n",
            "[install] Check found no existing installation\n",
            "[install] (If you expected this to be already installed, re-run `cobaya-install` with --debug to get more verbose output.)\n",
            "[install] Installing...\n",
            "[CAMB] Installing pre-requisites...\n",
            "[CAMB] Downloading camb...\n",
            "13.3MiB [00:00, 15.7MiB/s]\n",
            "[CAMB] Downloaded filename CAMB-master.tar.gz\n",
            "[CAMB] CAMB master downloaded and decompressed correctly.\n",
            "[CAMB] Compiling camb...\n",
            "[CAMB] configuration error: `project.license` must be valid exactly by one definition (2 matches found):\n",
            "\n",
            "    - keys:\n",
            "        'file': {type: string}\n",
            "      required: ['file']\n",
            "    - keys:\n",
            "        'text': {type: string}\n",
            "      required: ['text']\n",
            "\n",
            "DESCRIPTION:\n",
            "    `Project license <https://peps.python.org/pep-0621/#license>`_.\n",
            "\n",
            "GIVEN VALUE:\n",
            "    \"LicenseRef-LGPLv3-arxiv\"\n",
            "\n",
            "OFFENDING RULE: 'oneOf'\n",
            "\n",
            "DEFINITION:\n",
            "    {\n",
            "        \"oneOf\": [\n",
            "            {\n",
            "                \"properties\": {\n",
            "                    \"file\": {\n",
            "                        \"type\": \"string\",\n",
            "                        \"$$description\": [\n",
            "                            \"Relative path to the file (UTF-8) which contains the license for the\",\n",
            "                            \"project.\"\n",
            "                        ]\n",
            "                    }\n",
            "                },\n",
            "                \"required\": [\n",
            "                    \"file\"\n",
            "                ]\n",
            "            },\n",
            "            {\n",
            "                \"properties\": {\n",
            "                    \"text\": {\n",
            "                        \"type\": \"string\",\n",
            "                        \"$$description\": [\n",
            "                            \"The license of the project whose meaning is that of the\",\n",
            "                            \"`License field from the core metadata\",\n",
            "                            \"<https://packaging.python.org/specifications/core-metadata/#license>`_.\"\n",
            "                        ]\n",
            "                    }\n",
            "                },\n",
            "                \"required\": [\n",
            "                    \"text\"\n",
            "                ]\n",
            "            }\n",
            "        ]\n",
            "    }\n",
            "\n",
            "[CAMB] Traceback (most recent call last):\n",
            "  File \"/content/code/CAMB/setup.py\", line 288, in <module>\n",
            "    setup(\n",
            "  File \"/usr/local/lib/python3.12/dist-packages/setuptools/__init__.py\", line 117, in setup\n",
            "    return distutils.core.setup(**attrs)\n",
            "           ^^^^^^^^^^^^^^^^^^^^^^^^^^^^^\n",
            "  File \"/usr/local/lib/python3.12/dist-packages/setuptools/_distutils/core.py\", line 157, in setup\n",
            "    dist.parse_config_files()\n",
            "  File \"/usr/local/lib/python3.12/dist-packages/setuptools/dist.py\", line 647, in parse_config_files\n",
            "    pyprojecttoml.apply_configuration(self, filename, ignore_option_errors)\n",
            "  File \"/usr/local/lib/python3.12/dist-packages/setuptools/config/pyprojecttoml.py\", line 71, in apply_configuration\n",
            "    config = read_configuration(filepath, True, ignore_option_errors, dist)\n",
            "             ^^^^^^^^^^^^^^^^^^^^^^^^^^^^^^^^^^^^^^^^^^^^^^^^^^^^^^^^^^^^^^\n",
            "  File \"/usr/local/lib/python3.12/dist-packages/setuptools/config/pyprojecttoml.py\", line 139, in read_configuration\n",
            "    validate(subset, filepath)\n",
            "  File \"/usr/local/lib/python3.12/dist-packages/setuptools/config/pyprojecttoml.py\", line 60, in validate\n",
            "    raise ValueError(f\"{error}\\n{summary}\") from None\n",
            "ValueError: invalid pyproject.toml config: `project.license`.\n",
            "configuration error: `project.license` must be valid exactly by one definition (2 matches found):\n",
            "\n",
            "    - keys:\n",
            "        'file': {type: string}\n",
            "      required: ['file']\n",
            "    - keys:\n",
            "        'text': {type: string}\n",
            "      required: ['text']\n",
            "\n",
            "\n",
            "[CAMB] *ERROR* Compilation failed!\n",
            "[install] *ERROR* Installation failed! Look at the error messages above. Solve them and try again, or, if you are unable to solve them, install the packages required by this component manually.\n",
            "\n",
            "================================================================================\n",
            "theory:classy\n",
            "================================================================================\n",
            "\n",
            "[install] Checking if dependencies have already been installed...\n",
            "[install] Version check failed: Module classy at /content/code/classy/build/lib.linux-x86_64-cpython-312/classy is version (non-given) but the minimum required version is v3.2.1.\n",
            "[install] Skipping because '--upgrade' not requested.\n",
            "\n",
            "================================================================================\n",
            "likelihood:planck_2018_lowl.TT\n",
            "================================================================================\n",
            "\n",
            "[install] Checking if dependencies have already been installed...\n",
            "[install] External dependencies for this component already installed.\n",
            "[install] Doing nothing.\n",
            "\n",
            "================================================================================\n",
            "likelihood:planck_2018_lowl.EE\n",
            "================================================================================\n",
            "\n",
            "[install] Checking if dependencies have already been installed...\n",
            "[install] External dependencies for this component already installed.\n",
            "[install] Doing nothing.\n",
            "\n",
            "================================================================================\n",
            "likelihood:planck_NPIPE_highl_CamSpec.TTTEEE\n",
            "================================================================================\n",
            "\n",
            "[install] Checking if dependencies have already been installed...\n",
            "[install] External dependencies for this component already installed.\n",
            "[install] Doing nothing.\n",
            "\n",
            "================================================================================\n",
            "likelihood:planckpr4lensing\n",
            "================================================================================\n",
            "\n",
            "[install] Checking if dependencies have already been installed...\n",
            "[install] External dependencies for this component already installed.\n",
            "[install] Doing nothing.\n",
            "\n",
            "================================================================================\n",
            "likelihood:planck_2018_lensing.native\n",
            "================================================================================\n",
            "\n",
            "[install] Checking if dependencies have already been installed...\n",
            "[install] External dependencies for this component already installed.\n",
            "[install] Doing nothing.\n",
            "\n",
            "================================================================================\n",
            "likelihood:sn.pantheon\n",
            "================================================================================\n",
            "\n",
            "[install] Checking if dependencies have already been installed...\n",
            "[install] External dependencies for this component already installed.\n",
            "[install] Doing nothing.\n",
            "\n",
            "================================================================================\n",
            "likelihood:bao.sdss_dr12_consensus_final\n",
            "================================================================================\n",
            "\n",
            "[install] Checking if dependencies have already been installed...\n",
            "[install] External dependencies for this component already installed.\n",
            "[install] Doing nothing.\n",
            "\n",
            "================================================================================\n",
            "likelihood:des_y1.joint\n",
            "================================================================================\n",
            "\n",
            "[install] Checking if dependencies have already been installed...\n",
            "[install] External dependencies for this component already installed.\n",
            "[install] Doing nothing.\n",
            "\n",
            "================================================================================\n",
            "* Summary * \n",
            "================================================================================\n",
            "\n",
            "[install] *ERROR* The installation (or installation test) of some component(s) has failed: \n",
            " - theory:camb\n",
            "Check output of the installer of each component above for precise error info.\n",
            "\n",
            "[exception handler] ---------------------------------------\n",
            "\n",
            "Traceback (most recent call last):\n",
            "  File \"/usr/local/bin/cobaya-install\", line 8, in <module>\n",
            "    sys.exit(install_script())\n",
            "             ^^^^^^^^^^^^^^^^\n",
            "  File \"/usr/local/lib/python3.12/dist-packages/cobaya/install.py\", line 648, in install_script\n",
            "    install(*infos, path=getattr(arguments, packages_path_arg), logger=logger,\n",
            "  File \"/usr/local/lib/python3.12/dist-packages/cobaya/install.py\", line 366, in install\n",
            "    raise LoggedError(\n",
            "cobaya.log.LoggedError: The installation (or installation test) of some component(s) has failed: \n",
            " - theory:camb\n",
            "Check output of the installer of each component above for precise error info.\n",
            "\n",
            "-------------------------------------------------------------\n",
            "\n"
          ]
        }
      ]
    },
    {
      "cell_type": "code",
      "source": [
        "!pip install camb"
      ],
      "metadata": {
        "colab": {
          "base_uri": "https://localhost:8080/"
        },
        "id": "C9iuCrdNPThO",
        "outputId": "769489f5-19c8-4efe-d43c-f73bd2731f9a"
      },
      "execution_count": 10,
      "outputs": [
        {
          "output_type": "stream",
          "name": "stdout",
          "text": [
            "Requirement already satisfied: camb in /usr/local/lib/python3.12/dist-packages (1.6.4)\n",
            "Requirement already satisfied: numpy>=1.22 in /usr/local/lib/python3.12/dist-packages (from camb) (2.0.2)\n",
            "Requirement already satisfied: scipy>=1.0 in /usr/local/lib/python3.12/dist-packages (from camb) (1.16.1)\n",
            "Requirement already satisfied: sympy>=1.0 in /usr/local/lib/python3.12/dist-packages (from camb) (1.13.3)\n",
            "Requirement already satisfied: packaging>=24.2 in /usr/local/lib/python3.12/dist-packages (from camb) (25.0)\n",
            "Requirement already satisfied: mpmath<1.4,>=1.1.0 in /usr/local/lib/python3.12/dist-packages (from sympy>=1.0->camb) (1.3.0)\n"
          ]
        }
      ]
    },
    {
      "cell_type": "markdown",
      "metadata": {
        "id": "qwTgYxRFL33j"
      },
      "source": [
        "# Attention:\n",
        "\n",
        "Keep always the Cobaya documentation open: https://cobaya.readthedocs.io"
      ]
    },
    {
      "cell_type": "markdown",
      "metadata": {
        "id": "onqfcQlDL33k"
      },
      "source": [
        "# Exercise 1:\n",
        "\n",
        "### Use the Metropolis-Hastings MCMC sampler of Cobaya to sample a simple posterior distribution\n",
        "\n",
        "In this exercise, we aim to sample the posterior distribution corresponding to the product of a gaussian mixture likelihood in Cobaya (see https://cobaya.readthedocs.io/en/latest/likelihood_gaussian_mixture.html) using simple priors for the parameters.\n",
        "\n",
        "For that, you need to fill up the blocks `likelihood`, `params` and `sampler` of the configuration dictionary and then run Cobaya."
      ]
    },
    {
      "cell_type": "code",
      "execution_count": 11,
      "metadata": {
        "id": "kZUzl5qLL33l"
      },
      "outputs": [],
      "source": [
        "# Fill the configuration dictionary called 'info' below\n",
        "\n",
        "info = {\n",
        "# We import the likelihood from Cobaya likelihood libraries\n",
        "#'likelihood': Cobaya's protected key of the input dictionary:\n",
        "    \"likelihood\": {\n",
        "        \"gaussian_mixture\": {\n",
        "            \"means\": [0.2, 0],\n",
        "            \"covs\": [[0.1, 0.05],\n",
        "                     [0.05, 0.2]],\n",
        "            \"derived\": True}},\n",
        "#'params': Cobaya's protected key of the input dictionary.\n",
        "# Includes the parameters that the user would like to sample over:\n",
        "    \"params\": dict([\n",
        "        (\"a\", {\n",
        "            \"prior\": {\"min\": -0.5, \"max\": 3},\n",
        "            \"latex\": r\"\\alpha\"}),\n",
        "        (\"b\", {\n",
        "            \"prior\": {\"dist\": \"norm\", \"loc\": 0, \"scale\": 1},\n",
        "            \"ref\": 0,\n",
        "            \"proposal\": 0.5,\n",
        "            \"latex\": r\"\\beta\"}),\n",
        "        (\"hyperparam_a\", {\n",
        "            \"latex\": r\"\\alpha^\\prime\"}),\n",
        "        (\"derived_b\", {\n",
        "            \"latex\": r\"\\beta^\\prime\"})]),\n",
        "# 'sampler': Cobaya's protected key of the input dictionary.\n",
        "# you can choose the sampler you want to use.\n",
        "# Check Cobaya's documentation to see the list of available samplers\n",
        "    \"sampler\": {\n",
        "        \"mcmc\": None},\n",
        "# 'force': Cobaya's protected key of the input dictionary.\n",
        "# 'force': True, Cobaya forces deleting the previous output files, if found, with the same name\n",
        "    \"force\": True,\n",
        "# 'debug': Cobaya's protected key of the input dictionary.\n",
        "# how much information you want Cobaya to print? If debug: True, it prints every single detail\n",
        "# that is going on internally in Cobaya\n",
        "    \"debug\": False,\n",
        "# 'output': Cobaya's protected key of the input dictionary.\n",
        "# Where are the results going to be stored, in case that the sampler produce output files?\n",
        "# For example: chains...\n",
        "# modify the path below within 'output' to choose a name and a directory for those files\n",
        "    \"output\": \"chains_exercise1\"}"
      ]
    },
    {
      "cell_type": "code",
      "execution_count": 12,
      "metadata": {
        "scrolled": true,
        "id": "rZoMgnuRL33m",
        "outputId": "3dda8bf0-2788-4346-d6d4-5c862449a4b7",
        "colab": {
          "base_uri": "https://localhost:8080/"
        }
      },
      "outputs": [
        {
          "output_type": "stream",
          "name": "stderr",
          "text": [
            "INFO:output:Output to be read-from/written-into folder '.', with prefix 'chains_exercise1'\n"
          ]
        },
        {
          "output_type": "stream",
          "name": "stdout",
          "text": [
            "[output] Output to be read-from/written-into folder '.', with prefix 'chains_exercise1'\n"
          ]
        },
        {
          "output_type": "stream",
          "name": "stderr",
          "text": [
            "INFO:mcmc:Getting initial point... (this may take a few seconds)\n"
          ]
        },
        {
          "output_type": "stream",
          "name": "stdout",
          "text": [
            "[mcmc] Getting initial point... (this may take a few seconds)\n"
          ]
        },
        {
          "output_type": "stream",
          "name": "stderr",
          "text": [
            "INFO:prior:Reference values or pdfs for some parameters were not provided. Sampling from the prior instead for those parameters.\n"
          ]
        },
        {
          "output_type": "stream",
          "name": "stdout",
          "text": [
            "[prior] Reference values or pdfs for some parameters were not provided. Sampling from the prior instead for those parameters.\n"
          ]
        },
        {
          "output_type": "stream",
          "name": "stderr",
          "text": [
            "INFO:mcmc:Initial point: a:1.763578, b:0\n"
          ]
        },
        {
          "output_type": "stream",
          "name": "stdout",
          "text": [
            "[mcmc] Initial point: a:1.763578, b:0\n"
          ]
        },
        {
          "output_type": "stream",
          "name": "stderr",
          "text": [
            "INFO:model:Measuring speeds... (this may take a few seconds)\n"
          ]
        },
        {
          "output_type": "stream",
          "name": "stdout",
          "text": [
            "[model] Measuring speeds... (this may take a few seconds)\n"
          ]
        },
        {
          "output_type": "stream",
          "name": "stderr",
          "text": [
            "INFO:model:Setting measured speeds (per sec): {gaussian_mixture: 7620.0}\n"
          ]
        },
        {
          "output_type": "stream",
          "name": "stdout",
          "text": [
            "[model] Setting measured speeds (per sec): {gaussian_mixture: 7620.0}\n"
          ]
        },
        {
          "output_type": "stream",
          "name": "stderr",
          "text": [
            "WARNING:prior:Reference pdf not defined or improper for some parameters. Using prior's sigma instead for them.\n"
          ]
        },
        {
          "output_type": "stream",
          "name": "stdout",
          "text": [
            "[prior] *WARNING* Reference pdf not defined or improper for some parameters. Using prior's sigma instead for them.\n"
          ]
        },
        {
          "output_type": "stream",
          "name": "stderr",
          "text": [
            "INFO:mcmc:Covariance matrix not present. We will start learning the covariance of the proposal earlier: R-1 = 30 (would be 2 if all params loaded).\n"
          ]
        },
        {
          "output_type": "stream",
          "name": "stdout",
          "text": [
            "[mcmc] Covariance matrix not present. We will start learning the covariance of the proposal earlier: R-1 = 30 (would be 2 if all params loaded).\n"
          ]
        },
        {
          "output_type": "stream",
          "name": "stderr",
          "text": [
            "INFO:mcmc:Sampling!\n"
          ]
        },
        {
          "output_type": "stream",
          "name": "stdout",
          "text": [
            "[mcmc] Sampling!\n"
          ]
        },
        {
          "output_type": "stream",
          "name": "stderr",
          "text": [
            "INFO:mcmc:Progress @ 2025-08-28 15:11:03 : 1 steps taken, and 0 accepted.\n"
          ]
        },
        {
          "output_type": "stream",
          "name": "stdout",
          "text": [
            "[mcmc] Progress @ 2025-08-28 15:11:03 : 1 steps taken, and 0 accepted.\n"
          ]
        },
        {
          "output_type": "stream",
          "name": "stderr",
          "text": [
            "INFO:mcmc:Learn + convergence test @ 80 samples accepted.\n"
          ]
        },
        {
          "output_type": "stream",
          "name": "stdout",
          "text": [
            "[mcmc] Learn + convergence test @ 80 samples accepted.\n"
          ]
        },
        {
          "output_type": "stream",
          "name": "stderr",
          "text": [
            "INFO:mcmc: - Acceptance rate: 0.179\n"
          ]
        },
        {
          "output_type": "stream",
          "name": "stdout",
          "text": [
            "[mcmc]  - Acceptance rate: 0.179\n"
          ]
        },
        {
          "output_type": "stream",
          "name": "stderr",
          "text": [
            "INFO:mcmc: - Convergence of means: R-1 = 0.420298 after 64 accepted steps\n"
          ]
        },
        {
          "output_type": "stream",
          "name": "stdout",
          "text": [
            "[mcmc]  - Convergence of means: R-1 = 0.420298 after 64 accepted steps\n"
          ]
        },
        {
          "output_type": "stream",
          "name": "stderr",
          "text": [
            "INFO:mcmc: - Updated covariance matrix of proposal pdf.\n"
          ]
        },
        {
          "output_type": "stream",
          "name": "stdout",
          "text": [
            "[mcmc]  - Updated covariance matrix of proposal pdf.\n"
          ]
        },
        {
          "output_type": "stream",
          "name": "stderr",
          "text": [
            "INFO:mcmc:Learn + convergence test @ 160 samples accepted.\n"
          ]
        },
        {
          "output_type": "stream",
          "name": "stdout",
          "text": [
            "[mcmc] Learn + convergence test @ 160 samples accepted.\n"
          ]
        },
        {
          "output_type": "stream",
          "name": "stderr",
          "text": [
            "INFO:mcmc: - Acceptance rate: 0.244\n"
          ]
        },
        {
          "output_type": "stream",
          "name": "stdout",
          "text": [
            "[mcmc]  - Acceptance rate: 0.244\n"
          ]
        },
        {
          "output_type": "stream",
          "name": "stderr",
          "text": [
            "INFO:mcmc: - Convergence of means: R-1 = 0.080177 after 128 accepted steps\n"
          ]
        },
        {
          "output_type": "stream",
          "name": "stdout",
          "text": [
            "[mcmc]  - Convergence of means: R-1 = 0.080177 after 128 accepted steps\n"
          ]
        },
        {
          "output_type": "stream",
          "name": "stderr",
          "text": [
            "INFO:mcmc: - Updated covariance matrix of proposal pdf.\n"
          ]
        },
        {
          "output_type": "stream",
          "name": "stdout",
          "text": [
            "[mcmc]  - Updated covariance matrix of proposal pdf.\n"
          ]
        },
        {
          "output_type": "stream",
          "name": "stderr",
          "text": [
            "INFO:mcmc:Learn + convergence test @ 240 samples accepted.\n"
          ]
        },
        {
          "output_type": "stream",
          "name": "stdout",
          "text": [
            "[mcmc] Learn + convergence test @ 240 samples accepted.\n"
          ]
        },
        {
          "output_type": "stream",
          "name": "stderr",
          "text": [
            "INFO:mcmc: - Acceptance rate: 0.269\n"
          ]
        },
        {
          "output_type": "stream",
          "name": "stdout",
          "text": [
            "[mcmc]  - Acceptance rate: 0.269\n"
          ]
        },
        {
          "output_type": "stream",
          "name": "stderr",
          "text": [
            "INFO:mcmc: - Convergence of means: R-1 = 0.071968 after 192 accepted steps\n"
          ]
        },
        {
          "output_type": "stream",
          "name": "stdout",
          "text": [
            "[mcmc]  - Convergence of means: R-1 = 0.071968 after 192 accepted steps\n"
          ]
        },
        {
          "output_type": "stream",
          "name": "stderr",
          "text": [
            "INFO:mcmc: - Updated covariance matrix of proposal pdf.\n"
          ]
        },
        {
          "output_type": "stream",
          "name": "stdout",
          "text": [
            "[mcmc]  - Updated covariance matrix of proposal pdf.\n"
          ]
        },
        {
          "output_type": "stream",
          "name": "stderr",
          "text": [
            "INFO:mcmc:Learn + convergence test @ 320 samples accepted.\n"
          ]
        },
        {
          "output_type": "stream",
          "name": "stdout",
          "text": [
            "[mcmc] Learn + convergence test @ 320 samples accepted.\n"
          ]
        },
        {
          "output_type": "stream",
          "name": "stderr",
          "text": [
            "INFO:mcmc: - Acceptance rate: 0.284\n"
          ]
        },
        {
          "output_type": "stream",
          "name": "stdout",
          "text": [
            "[mcmc]  - Acceptance rate: 0.284\n"
          ]
        },
        {
          "output_type": "stream",
          "name": "stderr",
          "text": [
            "INFO:mcmc: - Convergence of means: R-1 = 0.017641 after 256 accepted steps\n"
          ]
        },
        {
          "output_type": "stream",
          "name": "stdout",
          "text": [
            "[mcmc]  - Convergence of means: R-1 = 0.017641 after 256 accepted steps\n"
          ]
        },
        {
          "output_type": "stream",
          "name": "stderr",
          "text": [
            "INFO:mcmc: - Updated covariance matrix of proposal pdf.\n"
          ]
        },
        {
          "output_type": "stream",
          "name": "stdout",
          "text": [
            "[mcmc]  - Updated covariance matrix of proposal pdf.\n"
          ]
        },
        {
          "output_type": "stream",
          "name": "stderr",
          "text": [
            "INFO:mcmc:Learn + convergence test @ 400 samples accepted.\n"
          ]
        },
        {
          "output_type": "stream",
          "name": "stdout",
          "text": [
            "[mcmc] Learn + convergence test @ 400 samples accepted.\n"
          ]
        },
        {
          "output_type": "stream",
          "name": "stderr",
          "text": [
            "INFO:mcmc: - Acceptance rate: 0.311\n"
          ]
        },
        {
          "output_type": "stream",
          "name": "stdout",
          "text": [
            "[mcmc]  - Acceptance rate: 0.311\n"
          ]
        },
        {
          "output_type": "stream",
          "name": "stderr",
          "text": [
            "INFO:mcmc: - Convergence of means: R-1 = 0.059404 after 320 accepted steps\n"
          ]
        },
        {
          "output_type": "stream",
          "name": "stdout",
          "text": [
            "[mcmc]  - Convergence of means: R-1 = 0.059404 after 320 accepted steps\n"
          ]
        },
        {
          "output_type": "stream",
          "name": "stderr",
          "text": [
            "INFO:mcmc: - Updated covariance matrix of proposal pdf.\n"
          ]
        },
        {
          "output_type": "stream",
          "name": "stdout",
          "text": [
            "[mcmc]  - Updated covariance matrix of proposal pdf.\n"
          ]
        },
        {
          "output_type": "stream",
          "name": "stderr",
          "text": [
            "INFO:mcmc:Learn + convergence test @ 480 samples accepted.\n"
          ]
        },
        {
          "output_type": "stream",
          "name": "stdout",
          "text": [
            "[mcmc] Learn + convergence test @ 480 samples accepted.\n"
          ]
        },
        {
          "output_type": "stream",
          "name": "stderr",
          "text": [
            "INFO:mcmc: - Acceptance rate: 0.307\n"
          ]
        },
        {
          "output_type": "stream",
          "name": "stdout",
          "text": [
            "[mcmc]  - Acceptance rate: 0.307\n"
          ]
        },
        {
          "output_type": "stream",
          "name": "stderr",
          "text": [
            "INFO:mcmc: - Convergence of means: R-1 = 0.039616 after 384 accepted steps\n"
          ]
        },
        {
          "output_type": "stream",
          "name": "stdout",
          "text": [
            "[mcmc]  - Convergence of means: R-1 = 0.039616 after 384 accepted steps\n"
          ]
        },
        {
          "output_type": "stream",
          "name": "stderr",
          "text": [
            "INFO:mcmc: - Updated covariance matrix of proposal pdf.\n"
          ]
        },
        {
          "output_type": "stream",
          "name": "stdout",
          "text": [
            "[mcmc]  - Updated covariance matrix of proposal pdf.\n"
          ]
        },
        {
          "output_type": "stream",
          "name": "stderr",
          "text": [
            "INFO:mcmc:Learn + convergence test @ 560 samples accepted.\n"
          ]
        },
        {
          "output_type": "stream",
          "name": "stdout",
          "text": [
            "[mcmc] Learn + convergence test @ 560 samples accepted.\n"
          ]
        },
        {
          "output_type": "stream",
          "name": "stderr",
          "text": [
            "INFO:mcmc: - Acceptance rate: 0.301\n"
          ]
        },
        {
          "output_type": "stream",
          "name": "stdout",
          "text": [
            "[mcmc]  - Acceptance rate: 0.301\n"
          ]
        },
        {
          "output_type": "stream",
          "name": "stderr",
          "text": [
            "INFO:mcmc: - Convergence of means: R-1 = 0.037607 after 448 accepted steps\n"
          ]
        },
        {
          "output_type": "stream",
          "name": "stdout",
          "text": [
            "[mcmc]  - Convergence of means: R-1 = 0.037607 after 448 accepted steps\n"
          ]
        },
        {
          "output_type": "stream",
          "name": "stderr",
          "text": [
            "INFO:mcmc: - Updated covariance matrix of proposal pdf.\n"
          ]
        },
        {
          "output_type": "stream",
          "name": "stdout",
          "text": [
            "[mcmc]  - Updated covariance matrix of proposal pdf.\n"
          ]
        },
        {
          "output_type": "stream",
          "name": "stderr",
          "text": [
            "INFO:mcmc:Learn + convergence test @ 640 samples accepted.\n"
          ]
        },
        {
          "output_type": "stream",
          "name": "stdout",
          "text": [
            "[mcmc] Learn + convergence test @ 640 samples accepted.\n"
          ]
        },
        {
          "output_type": "stream",
          "name": "stderr",
          "text": [
            "INFO:mcmc: - Acceptance rate: 0.302\n"
          ]
        },
        {
          "output_type": "stream",
          "name": "stdout",
          "text": [
            "[mcmc]  - Acceptance rate: 0.302\n"
          ]
        },
        {
          "output_type": "stream",
          "name": "stderr",
          "text": [
            "INFO:mcmc: - Convergence of means: R-1 = 0.030160 after 512 accepted steps\n"
          ]
        },
        {
          "output_type": "stream",
          "name": "stdout",
          "text": [
            "[mcmc]  - Convergence of means: R-1 = 0.030160 after 512 accepted steps\n"
          ]
        },
        {
          "output_type": "stream",
          "name": "stderr",
          "text": [
            "INFO:mcmc: - Updated covariance matrix of proposal pdf.\n"
          ]
        },
        {
          "output_type": "stream",
          "name": "stdout",
          "text": [
            "[mcmc]  - Updated covariance matrix of proposal pdf.\n"
          ]
        },
        {
          "output_type": "stream",
          "name": "stderr",
          "text": [
            "INFO:mcmc:Learn + convergence test @ 720 samples accepted.\n"
          ]
        },
        {
          "output_type": "stream",
          "name": "stdout",
          "text": [
            "[mcmc] Learn + convergence test @ 720 samples accepted.\n"
          ]
        },
        {
          "output_type": "stream",
          "name": "stderr",
          "text": [
            "INFO:mcmc: - Acceptance rate: 0.296\n"
          ]
        },
        {
          "output_type": "stream",
          "name": "stdout",
          "text": [
            "[mcmc]  - Acceptance rate: 0.296\n"
          ]
        },
        {
          "output_type": "stream",
          "name": "stderr",
          "text": [
            "INFO:mcmc: - Convergence of means: R-1 = 0.025707 after 576 accepted steps\n"
          ]
        },
        {
          "output_type": "stream",
          "name": "stdout",
          "text": [
            "[mcmc]  - Convergence of means: R-1 = 0.025707 after 576 accepted steps\n"
          ]
        },
        {
          "output_type": "stream",
          "name": "stderr",
          "text": [
            "INFO:mcmc: - Updated covariance matrix of proposal pdf.\n"
          ]
        },
        {
          "output_type": "stream",
          "name": "stdout",
          "text": [
            "[mcmc]  - Updated covariance matrix of proposal pdf.\n"
          ]
        },
        {
          "output_type": "stream",
          "name": "stderr",
          "text": [
            "INFO:mcmc:Learn + convergence test @ 800 samples accepted.\n"
          ]
        },
        {
          "output_type": "stream",
          "name": "stdout",
          "text": [
            "[mcmc] Learn + convergence test @ 800 samples accepted.\n"
          ]
        },
        {
          "output_type": "stream",
          "name": "stderr",
          "text": [
            "INFO:mcmc: - Acceptance rate: 0.298\n"
          ]
        },
        {
          "output_type": "stream",
          "name": "stdout",
          "text": [
            "[mcmc]  - Acceptance rate: 0.298\n"
          ]
        },
        {
          "output_type": "stream",
          "name": "stderr",
          "text": [
            "INFO:mcmc: - Convergence of means: R-1 = 0.014841 after 640 accepted steps\n"
          ]
        },
        {
          "output_type": "stream",
          "name": "stdout",
          "text": [
            "[mcmc]  - Convergence of means: R-1 = 0.014841 after 640 accepted steps\n"
          ]
        },
        {
          "output_type": "stream",
          "name": "stderr",
          "text": [
            "INFO:mcmc: - Updated covariance matrix of proposal pdf.\n"
          ]
        },
        {
          "output_type": "stream",
          "name": "stdout",
          "text": [
            "[mcmc]  - Updated covariance matrix of proposal pdf.\n"
          ]
        },
        {
          "output_type": "stream",
          "name": "stderr",
          "text": [
            "INFO:mcmc:Learn + convergence test @ 880 samples accepted.\n"
          ]
        },
        {
          "output_type": "stream",
          "name": "stdout",
          "text": [
            "[mcmc] Learn + convergence test @ 880 samples accepted.\n"
          ]
        },
        {
          "output_type": "stream",
          "name": "stderr",
          "text": [
            "INFO:mcmc: - Acceptance rate: 0.295\n"
          ]
        },
        {
          "output_type": "stream",
          "name": "stdout",
          "text": [
            "[mcmc]  - Acceptance rate: 0.295\n"
          ]
        },
        {
          "output_type": "stream",
          "name": "stderr",
          "text": [
            "INFO:mcmc: - Convergence of means: R-1 = 0.018615 after 704 accepted steps\n"
          ]
        },
        {
          "output_type": "stream",
          "name": "stdout",
          "text": [
            "[mcmc]  - Convergence of means: R-1 = 0.018615 after 704 accepted steps\n"
          ]
        },
        {
          "output_type": "stream",
          "name": "stderr",
          "text": [
            "INFO:mcmc: - Updated covariance matrix of proposal pdf.\n"
          ]
        },
        {
          "output_type": "stream",
          "name": "stdout",
          "text": [
            "[mcmc]  - Updated covariance matrix of proposal pdf.\n"
          ]
        },
        {
          "output_type": "stream",
          "name": "stderr",
          "text": [
            "INFO:mcmc:Learn + convergence test @ 960 samples accepted.\n"
          ]
        },
        {
          "output_type": "stream",
          "name": "stdout",
          "text": [
            "[mcmc] Learn + convergence test @ 960 samples accepted.\n"
          ]
        },
        {
          "output_type": "stream",
          "name": "stderr",
          "text": [
            "INFO:mcmc: - Acceptance rate: 0.299\n"
          ]
        },
        {
          "output_type": "stream",
          "name": "stdout",
          "text": [
            "[mcmc]  - Acceptance rate: 0.299\n"
          ]
        },
        {
          "output_type": "stream",
          "name": "stderr",
          "text": [
            "INFO:mcmc: - Convergence of means: R-1 = 0.023048 after 768 accepted steps\n"
          ]
        },
        {
          "output_type": "stream",
          "name": "stdout",
          "text": [
            "[mcmc]  - Convergence of means: R-1 = 0.023048 after 768 accepted steps\n"
          ]
        },
        {
          "output_type": "stream",
          "name": "stderr",
          "text": [
            "INFO:mcmc: - Updated covariance matrix of proposal pdf.\n"
          ]
        },
        {
          "output_type": "stream",
          "name": "stdout",
          "text": [
            "[mcmc]  - Updated covariance matrix of proposal pdf.\n"
          ]
        },
        {
          "output_type": "stream",
          "name": "stderr",
          "text": [
            "INFO:mcmc:Learn + convergence test @ 1040 samples accepted.\n"
          ]
        },
        {
          "output_type": "stream",
          "name": "stdout",
          "text": [
            "[mcmc] Learn + convergence test @ 1040 samples accepted.\n"
          ]
        },
        {
          "output_type": "stream",
          "name": "stderr",
          "text": [
            "INFO:mcmc: - Acceptance rate: 0.303\n"
          ]
        },
        {
          "output_type": "stream",
          "name": "stdout",
          "text": [
            "[mcmc]  - Acceptance rate: 0.303\n"
          ]
        },
        {
          "output_type": "stream",
          "name": "stderr",
          "text": [
            "INFO:mcmc: - Convergence of means: R-1 = 0.019226 after 832 accepted steps\n"
          ]
        },
        {
          "output_type": "stream",
          "name": "stdout",
          "text": [
            "[mcmc]  - Convergence of means: R-1 = 0.019226 after 832 accepted steps\n"
          ]
        },
        {
          "output_type": "stream",
          "name": "stderr",
          "text": [
            "INFO:mcmc: - Updated covariance matrix of proposal pdf.\n"
          ]
        },
        {
          "output_type": "stream",
          "name": "stdout",
          "text": [
            "[mcmc]  - Updated covariance matrix of proposal pdf.\n"
          ]
        },
        {
          "output_type": "stream",
          "name": "stderr",
          "text": [
            "INFO:mcmc:Learn + convergence test @ 1120 samples accepted.\n"
          ]
        },
        {
          "output_type": "stream",
          "name": "stdout",
          "text": [
            "[mcmc] Learn + convergence test @ 1120 samples accepted.\n"
          ]
        },
        {
          "output_type": "stream",
          "name": "stderr",
          "text": [
            "INFO:mcmc: - Acceptance rate: 0.303\n"
          ]
        },
        {
          "output_type": "stream",
          "name": "stdout",
          "text": [
            "[mcmc]  - Acceptance rate: 0.303\n"
          ]
        },
        {
          "output_type": "stream",
          "name": "stderr",
          "text": [
            "INFO:mcmc: - Convergence of means: R-1 = 0.018243 after 896 accepted steps\n"
          ]
        },
        {
          "output_type": "stream",
          "name": "stdout",
          "text": [
            "[mcmc]  - Convergence of means: R-1 = 0.018243 after 896 accepted steps\n"
          ]
        },
        {
          "output_type": "stream",
          "name": "stderr",
          "text": [
            "INFO:mcmc: - Updated covariance matrix of proposal pdf.\n"
          ]
        },
        {
          "output_type": "stream",
          "name": "stdout",
          "text": [
            "[mcmc]  - Updated covariance matrix of proposal pdf.\n"
          ]
        },
        {
          "output_type": "stream",
          "name": "stderr",
          "text": [
            "INFO:mcmc:Learn + convergence test @ 1200 samples accepted.\n"
          ]
        },
        {
          "output_type": "stream",
          "name": "stdout",
          "text": [
            "[mcmc] Learn + convergence test @ 1200 samples accepted.\n"
          ]
        },
        {
          "output_type": "stream",
          "name": "stderr",
          "text": [
            "INFO:mcmc: - Acceptance rate: 0.306\n"
          ]
        },
        {
          "output_type": "stream",
          "name": "stdout",
          "text": [
            "[mcmc]  - Acceptance rate: 0.306\n"
          ]
        },
        {
          "output_type": "stream",
          "name": "stderr",
          "text": [
            "INFO:mcmc: - Convergence of means: R-1 = 0.011276 after 960 accepted steps\n"
          ]
        },
        {
          "output_type": "stream",
          "name": "stdout",
          "text": [
            "[mcmc]  - Convergence of means: R-1 = 0.011276 after 960 accepted steps\n"
          ]
        },
        {
          "output_type": "stream",
          "name": "stderr",
          "text": [
            "INFO:mcmc: - Updated covariance matrix of proposal pdf.\n"
          ]
        },
        {
          "output_type": "stream",
          "name": "stdout",
          "text": [
            "[mcmc]  - Updated covariance matrix of proposal pdf.\n"
          ]
        },
        {
          "output_type": "stream",
          "name": "stderr",
          "text": [
            "INFO:mcmc:Learn + convergence test @ 1280 samples accepted.\n"
          ]
        },
        {
          "output_type": "stream",
          "name": "stdout",
          "text": [
            "[mcmc] Learn + convergence test @ 1280 samples accepted.\n"
          ]
        },
        {
          "output_type": "stream",
          "name": "stderr",
          "text": [
            "INFO:mcmc: - Acceptance rate: 0.307\n"
          ]
        },
        {
          "output_type": "stream",
          "name": "stdout",
          "text": [
            "[mcmc]  - Acceptance rate: 0.307\n"
          ]
        },
        {
          "output_type": "stream",
          "name": "stderr",
          "text": [
            "INFO:mcmc: - Convergence of means: R-1 = 0.005881 after 1024 accepted steps\n"
          ]
        },
        {
          "output_type": "stream",
          "name": "stdout",
          "text": [
            "[mcmc]  - Convergence of means: R-1 = 0.005881 after 1024 accepted steps\n"
          ]
        },
        {
          "output_type": "stream",
          "name": "stderr",
          "text": [
            "INFO:mcmc: - Updated covariance matrix of proposal pdf.\n"
          ]
        },
        {
          "output_type": "stream",
          "name": "stdout",
          "text": [
            "[mcmc]  - Updated covariance matrix of proposal pdf.\n"
          ]
        },
        {
          "output_type": "stream",
          "name": "stderr",
          "text": [
            "INFO:mcmc:Learn + convergence test @ 1360 samples accepted.\n"
          ]
        },
        {
          "output_type": "stream",
          "name": "stdout",
          "text": [
            "[mcmc] Learn + convergence test @ 1360 samples accepted.\n"
          ]
        },
        {
          "output_type": "stream",
          "name": "stderr",
          "text": [
            "INFO:mcmc: - Acceptance rate: 0.305\n"
          ]
        },
        {
          "output_type": "stream",
          "name": "stdout",
          "text": [
            "[mcmc]  - Acceptance rate: 0.305\n"
          ]
        },
        {
          "output_type": "stream",
          "name": "stderr",
          "text": [
            "INFO:mcmc: - Convergence of means: R-1 = 0.020655 after 1088 accepted steps\n"
          ]
        },
        {
          "output_type": "stream",
          "name": "stdout",
          "text": [
            "[mcmc]  - Convergence of means: R-1 = 0.020655 after 1088 accepted steps\n"
          ]
        },
        {
          "output_type": "stream",
          "name": "stderr",
          "text": [
            "INFO:mcmc: - Updated covariance matrix of proposal pdf.\n"
          ]
        },
        {
          "output_type": "stream",
          "name": "stdout",
          "text": [
            "[mcmc]  - Updated covariance matrix of proposal pdf.\n"
          ]
        },
        {
          "output_type": "stream",
          "name": "stderr",
          "text": [
            "INFO:mcmc:Learn + convergence test @ 1440 samples accepted.\n"
          ]
        },
        {
          "output_type": "stream",
          "name": "stdout",
          "text": [
            "[mcmc] Learn + convergence test @ 1440 samples accepted.\n"
          ]
        },
        {
          "output_type": "stream",
          "name": "stderr",
          "text": [
            "INFO:mcmc: - Acceptance rate: 0.307\n"
          ]
        },
        {
          "output_type": "stream",
          "name": "stdout",
          "text": [
            "[mcmc]  - Acceptance rate: 0.307\n"
          ]
        },
        {
          "output_type": "stream",
          "name": "stderr",
          "text": [
            "INFO:mcmc: - Convergence of means: R-1 = 0.013153 after 1152 accepted steps\n"
          ]
        },
        {
          "output_type": "stream",
          "name": "stdout",
          "text": [
            "[mcmc]  - Convergence of means: R-1 = 0.013153 after 1152 accepted steps\n"
          ]
        },
        {
          "output_type": "stream",
          "name": "stderr",
          "text": [
            "INFO:mcmc: - Updated covariance matrix of proposal pdf.\n"
          ]
        },
        {
          "output_type": "stream",
          "name": "stdout",
          "text": [
            "[mcmc]  - Updated covariance matrix of proposal pdf.\n"
          ]
        },
        {
          "output_type": "stream",
          "name": "stderr",
          "text": [
            "INFO:mcmc:Learn + convergence test @ 1520 samples accepted.\n"
          ]
        },
        {
          "output_type": "stream",
          "name": "stdout",
          "text": [
            "[mcmc] Learn + convergence test @ 1520 samples accepted.\n"
          ]
        },
        {
          "output_type": "stream",
          "name": "stderr",
          "text": [
            "INFO:mcmc: - Acceptance rate: 0.309\n"
          ]
        },
        {
          "output_type": "stream",
          "name": "stdout",
          "text": [
            "[mcmc]  - Acceptance rate: 0.309\n"
          ]
        },
        {
          "output_type": "stream",
          "name": "stderr",
          "text": [
            "INFO:mcmc: - Convergence of means: R-1 = 0.016584 after 1216 accepted steps\n"
          ]
        },
        {
          "output_type": "stream",
          "name": "stdout",
          "text": [
            "[mcmc]  - Convergence of means: R-1 = 0.016584 after 1216 accepted steps\n"
          ]
        },
        {
          "output_type": "stream",
          "name": "stderr",
          "text": [
            "INFO:mcmc: - Updated covariance matrix of proposal pdf.\n"
          ]
        },
        {
          "output_type": "stream",
          "name": "stdout",
          "text": [
            "[mcmc]  - Updated covariance matrix of proposal pdf.\n"
          ]
        },
        {
          "output_type": "stream",
          "name": "stderr",
          "text": [
            "INFO:mcmc:Learn + convergence test @ 1600 samples accepted.\n"
          ]
        },
        {
          "output_type": "stream",
          "name": "stdout",
          "text": [
            "[mcmc] Learn + convergence test @ 1600 samples accepted.\n"
          ]
        },
        {
          "output_type": "stream",
          "name": "stderr",
          "text": [
            "INFO:mcmc: - Acceptance rate: 0.309\n"
          ]
        },
        {
          "output_type": "stream",
          "name": "stdout",
          "text": [
            "[mcmc]  - Acceptance rate: 0.309\n"
          ]
        },
        {
          "output_type": "stream",
          "name": "stderr",
          "text": [
            "INFO:mcmc: - Convergence of means: R-1 = 0.021647 after 1280 accepted steps\n"
          ]
        },
        {
          "output_type": "stream",
          "name": "stdout",
          "text": [
            "[mcmc]  - Convergence of means: R-1 = 0.021647 after 1280 accepted steps\n"
          ]
        },
        {
          "output_type": "stream",
          "name": "stderr",
          "text": [
            "INFO:mcmc: - Updated covariance matrix of proposal pdf.\n"
          ]
        },
        {
          "output_type": "stream",
          "name": "stdout",
          "text": [
            "[mcmc]  - Updated covariance matrix of proposal pdf.\n"
          ]
        },
        {
          "output_type": "stream",
          "name": "stderr",
          "text": [
            "INFO:mcmc:Learn + convergence test @ 1680 samples accepted.\n"
          ]
        },
        {
          "output_type": "stream",
          "name": "stdout",
          "text": [
            "[mcmc] Learn + convergence test @ 1680 samples accepted.\n"
          ]
        },
        {
          "output_type": "stream",
          "name": "stderr",
          "text": [
            "INFO:mcmc: - Acceptance rate: 0.310\n"
          ]
        },
        {
          "output_type": "stream",
          "name": "stdout",
          "text": [
            "[mcmc]  - Acceptance rate: 0.310\n"
          ]
        },
        {
          "output_type": "stream",
          "name": "stderr",
          "text": [
            "INFO:mcmc: - Convergence of means: R-1 = 0.013077 after 1344 accepted steps\n"
          ]
        },
        {
          "output_type": "stream",
          "name": "stdout",
          "text": [
            "[mcmc]  - Convergence of means: R-1 = 0.013077 after 1344 accepted steps\n"
          ]
        },
        {
          "output_type": "stream",
          "name": "stderr",
          "text": [
            "INFO:mcmc: - Updated covariance matrix of proposal pdf.\n"
          ]
        },
        {
          "output_type": "stream",
          "name": "stdout",
          "text": [
            "[mcmc]  - Updated covariance matrix of proposal pdf.\n"
          ]
        },
        {
          "output_type": "stream",
          "name": "stderr",
          "text": [
            "INFO:mcmc:Learn + convergence test @ 1760 samples accepted.\n"
          ]
        },
        {
          "output_type": "stream",
          "name": "stdout",
          "text": [
            "[mcmc] Learn + convergence test @ 1760 samples accepted.\n"
          ]
        },
        {
          "output_type": "stream",
          "name": "stderr",
          "text": [
            "INFO:mcmc: - Acceptance rate: 0.312\n"
          ]
        },
        {
          "output_type": "stream",
          "name": "stdout",
          "text": [
            "[mcmc]  - Acceptance rate: 0.312\n"
          ]
        },
        {
          "output_type": "stream",
          "name": "stderr",
          "text": [
            "INFO:mcmc: - Convergence of means: R-1 = 0.017529 after 1408 accepted steps\n"
          ]
        },
        {
          "output_type": "stream",
          "name": "stdout",
          "text": [
            "[mcmc]  - Convergence of means: R-1 = 0.017529 after 1408 accepted steps\n"
          ]
        },
        {
          "output_type": "stream",
          "name": "stderr",
          "text": [
            "INFO:mcmc: - Updated covariance matrix of proposal pdf.\n"
          ]
        },
        {
          "output_type": "stream",
          "name": "stdout",
          "text": [
            "[mcmc]  - Updated covariance matrix of proposal pdf.\n"
          ]
        },
        {
          "output_type": "stream",
          "name": "stderr",
          "text": [
            "INFO:mcmc:Learn + convergence test @ 1840 samples accepted.\n"
          ]
        },
        {
          "output_type": "stream",
          "name": "stdout",
          "text": [
            "[mcmc] Learn + convergence test @ 1840 samples accepted.\n"
          ]
        },
        {
          "output_type": "stream",
          "name": "stderr",
          "text": [
            "INFO:mcmc: - Acceptance rate: 0.311\n"
          ]
        },
        {
          "output_type": "stream",
          "name": "stdout",
          "text": [
            "[mcmc]  - Acceptance rate: 0.311\n"
          ]
        },
        {
          "output_type": "stream",
          "name": "stderr",
          "text": [
            "INFO:mcmc: - Convergence of means: R-1 = 0.032099 after 1472 accepted steps\n"
          ]
        },
        {
          "output_type": "stream",
          "name": "stdout",
          "text": [
            "[mcmc]  - Convergence of means: R-1 = 0.032099 after 1472 accepted steps\n"
          ]
        },
        {
          "output_type": "stream",
          "name": "stderr",
          "text": [
            "INFO:mcmc: - Updated covariance matrix of proposal pdf.\n"
          ]
        },
        {
          "output_type": "stream",
          "name": "stdout",
          "text": [
            "[mcmc]  - Updated covariance matrix of proposal pdf.\n"
          ]
        },
        {
          "output_type": "stream",
          "name": "stderr",
          "text": [
            "INFO:mcmc:Learn + convergence test @ 1920 samples accepted.\n"
          ]
        },
        {
          "output_type": "stream",
          "name": "stdout",
          "text": [
            "[mcmc] Learn + convergence test @ 1920 samples accepted.\n"
          ]
        },
        {
          "output_type": "stream",
          "name": "stderr",
          "text": [
            "INFO:mcmc: - Acceptance rate: 0.309\n"
          ]
        },
        {
          "output_type": "stream",
          "name": "stdout",
          "text": [
            "[mcmc]  - Acceptance rate: 0.309\n"
          ]
        },
        {
          "output_type": "stream",
          "name": "stderr",
          "text": [
            "INFO:mcmc: - Convergence of means: R-1 = 0.014473 after 1536 accepted steps\n"
          ]
        },
        {
          "output_type": "stream",
          "name": "stdout",
          "text": [
            "[mcmc]  - Convergence of means: R-1 = 0.014473 after 1536 accepted steps\n"
          ]
        },
        {
          "output_type": "stream",
          "name": "stderr",
          "text": [
            "INFO:mcmc: - Updated covariance matrix of proposal pdf.\n"
          ]
        },
        {
          "output_type": "stream",
          "name": "stdout",
          "text": [
            "[mcmc]  - Updated covariance matrix of proposal pdf.\n"
          ]
        },
        {
          "output_type": "stream",
          "name": "stderr",
          "text": [
            "INFO:mcmc:Learn + convergence test @ 2000 samples accepted.\n"
          ]
        },
        {
          "output_type": "stream",
          "name": "stdout",
          "text": [
            "[mcmc] Learn + convergence test @ 2000 samples accepted.\n"
          ]
        },
        {
          "output_type": "stream",
          "name": "stderr",
          "text": [
            "INFO:mcmc: - Acceptance rate: 0.308\n"
          ]
        },
        {
          "output_type": "stream",
          "name": "stdout",
          "text": [
            "[mcmc]  - Acceptance rate: 0.308\n"
          ]
        },
        {
          "output_type": "stream",
          "name": "stderr",
          "text": [
            "INFO:mcmc: - Convergence of means: R-1 = 0.026568 after 1600 accepted steps\n"
          ]
        },
        {
          "output_type": "stream",
          "name": "stdout",
          "text": [
            "[mcmc]  - Convergence of means: R-1 = 0.026568 after 1600 accepted steps\n"
          ]
        },
        {
          "output_type": "stream",
          "name": "stderr",
          "text": [
            "INFO:mcmc: - Updated covariance matrix of proposal pdf.\n"
          ]
        },
        {
          "output_type": "stream",
          "name": "stdout",
          "text": [
            "[mcmc]  - Updated covariance matrix of proposal pdf.\n"
          ]
        },
        {
          "output_type": "stream",
          "name": "stderr",
          "text": [
            "INFO:mcmc:Learn + convergence test @ 2080 samples accepted.\n"
          ]
        },
        {
          "output_type": "stream",
          "name": "stdout",
          "text": [
            "[mcmc] Learn + convergence test @ 2080 samples accepted.\n"
          ]
        },
        {
          "output_type": "stream",
          "name": "stderr",
          "text": [
            "INFO:mcmc: - Acceptance rate: 0.306\n"
          ]
        },
        {
          "output_type": "stream",
          "name": "stdout",
          "text": [
            "[mcmc]  - Acceptance rate: 0.306\n"
          ]
        },
        {
          "output_type": "stream",
          "name": "stderr",
          "text": [
            "INFO:mcmc: - Convergence of means: R-1 = 0.011838 after 1664 accepted steps\n"
          ]
        },
        {
          "output_type": "stream",
          "name": "stdout",
          "text": [
            "[mcmc]  - Convergence of means: R-1 = 0.011838 after 1664 accepted steps\n"
          ]
        },
        {
          "output_type": "stream",
          "name": "stderr",
          "text": [
            "INFO:mcmc: - Updated covariance matrix of proposal pdf.\n"
          ]
        },
        {
          "output_type": "stream",
          "name": "stdout",
          "text": [
            "[mcmc]  - Updated covariance matrix of proposal pdf.\n"
          ]
        },
        {
          "output_type": "stream",
          "name": "stderr",
          "text": [
            "INFO:mcmc:Learn + convergence test @ 2160 samples accepted.\n"
          ]
        },
        {
          "output_type": "stream",
          "name": "stdout",
          "text": [
            "[mcmc] Learn + convergence test @ 2160 samples accepted.\n"
          ]
        },
        {
          "output_type": "stream",
          "name": "stderr",
          "text": [
            "INFO:mcmc: - Acceptance rate: 0.308\n"
          ]
        },
        {
          "output_type": "stream",
          "name": "stdout",
          "text": [
            "[mcmc]  - Acceptance rate: 0.308\n"
          ]
        },
        {
          "output_type": "stream",
          "name": "stderr",
          "text": [
            "INFO:mcmc: - Convergence of means: R-1 = 0.013662 after 1728 accepted steps\n"
          ]
        },
        {
          "output_type": "stream",
          "name": "stdout",
          "text": [
            "[mcmc]  - Convergence of means: R-1 = 0.013662 after 1728 accepted steps\n"
          ]
        },
        {
          "output_type": "stream",
          "name": "stderr",
          "text": [
            "INFO:mcmc: - Updated covariance matrix of proposal pdf.\n"
          ]
        },
        {
          "output_type": "stream",
          "name": "stdout",
          "text": [
            "[mcmc]  - Updated covariance matrix of proposal pdf.\n"
          ]
        },
        {
          "output_type": "stream",
          "name": "stderr",
          "text": [
            "INFO:mcmc:Learn + convergence test @ 2240 samples accepted.\n"
          ]
        },
        {
          "output_type": "stream",
          "name": "stdout",
          "text": [
            "[mcmc] Learn + convergence test @ 2240 samples accepted.\n"
          ]
        },
        {
          "output_type": "stream",
          "name": "stderr",
          "text": [
            "INFO:mcmc: - Acceptance rate: 0.309\n"
          ]
        },
        {
          "output_type": "stream",
          "name": "stdout",
          "text": [
            "[mcmc]  - Acceptance rate: 0.309\n"
          ]
        },
        {
          "output_type": "stream",
          "name": "stderr",
          "text": [
            "INFO:mcmc: - Convergence of means: R-1 = 0.013679 after 1792 accepted steps\n"
          ]
        },
        {
          "output_type": "stream",
          "name": "stdout",
          "text": [
            "[mcmc]  - Convergence of means: R-1 = 0.013679 after 1792 accepted steps\n"
          ]
        },
        {
          "output_type": "stream",
          "name": "stderr",
          "text": [
            "INFO:mcmc: - Updated covariance matrix of proposal pdf.\n"
          ]
        },
        {
          "output_type": "stream",
          "name": "stdout",
          "text": [
            "[mcmc]  - Updated covariance matrix of proposal pdf.\n"
          ]
        },
        {
          "output_type": "stream",
          "name": "stderr",
          "text": [
            "INFO:mcmc:Learn + convergence test @ 2320 samples accepted.\n"
          ]
        },
        {
          "output_type": "stream",
          "name": "stdout",
          "text": [
            "[mcmc] Learn + convergence test @ 2320 samples accepted.\n"
          ]
        },
        {
          "output_type": "stream",
          "name": "stderr",
          "text": [
            "INFO:mcmc: - Acceptance rate: 0.309\n"
          ]
        },
        {
          "output_type": "stream",
          "name": "stdout",
          "text": [
            "[mcmc]  - Acceptance rate: 0.309\n"
          ]
        },
        {
          "output_type": "stream",
          "name": "stderr",
          "text": [
            "INFO:mcmc: - Convergence of means: R-1 = 0.011625 after 1856 accepted steps\n"
          ]
        },
        {
          "output_type": "stream",
          "name": "stdout",
          "text": [
            "[mcmc]  - Convergence of means: R-1 = 0.011625 after 1856 accepted steps\n"
          ]
        },
        {
          "output_type": "stream",
          "name": "stderr",
          "text": [
            "INFO:mcmc: - Updated covariance matrix of proposal pdf.\n"
          ]
        },
        {
          "output_type": "stream",
          "name": "stdout",
          "text": [
            "[mcmc]  - Updated covariance matrix of proposal pdf.\n"
          ]
        },
        {
          "output_type": "stream",
          "name": "stderr",
          "text": [
            "INFO:mcmc:Learn + convergence test @ 2400 samples accepted.\n"
          ]
        },
        {
          "output_type": "stream",
          "name": "stdout",
          "text": [
            "[mcmc] Learn + convergence test @ 2400 samples accepted.\n"
          ]
        },
        {
          "output_type": "stream",
          "name": "stderr",
          "text": [
            "INFO:mcmc: - Acceptance rate: 0.311\n"
          ]
        },
        {
          "output_type": "stream",
          "name": "stdout",
          "text": [
            "[mcmc]  - Acceptance rate: 0.311\n"
          ]
        },
        {
          "output_type": "stream",
          "name": "stderr",
          "text": [
            "INFO:mcmc: - Convergence of means: R-1 = 0.017194 after 1920 accepted steps\n"
          ]
        },
        {
          "output_type": "stream",
          "name": "stdout",
          "text": [
            "[mcmc]  - Convergence of means: R-1 = 0.017194 after 1920 accepted steps\n"
          ]
        },
        {
          "output_type": "stream",
          "name": "stderr",
          "text": [
            "INFO:mcmc: - Updated covariance matrix of proposal pdf.\n"
          ]
        },
        {
          "output_type": "stream",
          "name": "stdout",
          "text": [
            "[mcmc]  - Updated covariance matrix of proposal pdf.\n"
          ]
        },
        {
          "output_type": "stream",
          "name": "stderr",
          "text": [
            "INFO:mcmc:Learn + convergence test @ 2480 samples accepted.\n"
          ]
        },
        {
          "output_type": "stream",
          "name": "stdout",
          "text": [
            "[mcmc] Learn + convergence test @ 2480 samples accepted.\n"
          ]
        },
        {
          "output_type": "stream",
          "name": "stderr",
          "text": [
            "INFO:mcmc: - Acceptance rate: 0.311\n"
          ]
        },
        {
          "output_type": "stream",
          "name": "stdout",
          "text": [
            "[mcmc]  - Acceptance rate: 0.311\n"
          ]
        },
        {
          "output_type": "stream",
          "name": "stderr",
          "text": [
            "INFO:mcmc: - Convergence of means: R-1 = 0.016636 after 1984 accepted steps\n"
          ]
        },
        {
          "output_type": "stream",
          "name": "stdout",
          "text": [
            "[mcmc]  - Convergence of means: R-1 = 0.016636 after 1984 accepted steps\n"
          ]
        },
        {
          "output_type": "stream",
          "name": "stderr",
          "text": [
            "INFO:mcmc: - Updated covariance matrix of proposal pdf.\n"
          ]
        },
        {
          "output_type": "stream",
          "name": "stdout",
          "text": [
            "[mcmc]  - Updated covariance matrix of proposal pdf.\n"
          ]
        },
        {
          "output_type": "stream",
          "name": "stderr",
          "text": [
            "INFO:mcmc:Learn + convergence test @ 2560 samples accepted.\n"
          ]
        },
        {
          "output_type": "stream",
          "name": "stdout",
          "text": [
            "[mcmc] Learn + convergence test @ 2560 samples accepted.\n"
          ]
        },
        {
          "output_type": "stream",
          "name": "stderr",
          "text": [
            "INFO:mcmc: - Acceptance rate: 0.312\n"
          ]
        },
        {
          "output_type": "stream",
          "name": "stdout",
          "text": [
            "[mcmc]  - Acceptance rate: 0.312\n"
          ]
        },
        {
          "output_type": "stream",
          "name": "stderr",
          "text": [
            "INFO:mcmc: - Convergence of means: R-1 = 0.007233 after 2048 accepted steps\n"
          ]
        },
        {
          "output_type": "stream",
          "name": "stdout",
          "text": [
            "[mcmc]  - Convergence of means: R-1 = 0.007233 after 2048 accepted steps\n"
          ]
        },
        {
          "output_type": "stream",
          "name": "stderr",
          "text": [
            "INFO:mcmc: - Updated covariance matrix of proposal pdf.\n"
          ]
        },
        {
          "output_type": "stream",
          "name": "stdout",
          "text": [
            "[mcmc]  - Updated covariance matrix of proposal pdf.\n"
          ]
        },
        {
          "output_type": "stream",
          "name": "stderr",
          "text": [
            "INFO:mcmc:Learn + convergence test @ 2640 samples accepted.\n"
          ]
        },
        {
          "output_type": "stream",
          "name": "stdout",
          "text": [
            "[mcmc] Learn + convergence test @ 2640 samples accepted.\n"
          ]
        },
        {
          "output_type": "stream",
          "name": "stderr",
          "text": [
            "INFO:mcmc: - Acceptance rate: 0.312\n"
          ]
        },
        {
          "output_type": "stream",
          "name": "stdout",
          "text": [
            "[mcmc]  - Acceptance rate: 0.312\n"
          ]
        },
        {
          "output_type": "stream",
          "name": "stderr",
          "text": [
            "INFO:mcmc: - Convergence of means: R-1 = 0.016542 after 2112 accepted steps\n"
          ]
        },
        {
          "output_type": "stream",
          "name": "stdout",
          "text": [
            "[mcmc]  - Convergence of means: R-1 = 0.016542 after 2112 accepted steps\n"
          ]
        },
        {
          "output_type": "stream",
          "name": "stderr",
          "text": [
            "INFO:mcmc: - Updated covariance matrix of proposal pdf.\n"
          ]
        },
        {
          "output_type": "stream",
          "name": "stdout",
          "text": [
            "[mcmc]  - Updated covariance matrix of proposal pdf.\n"
          ]
        },
        {
          "output_type": "stream",
          "name": "stderr",
          "text": [
            "INFO:mcmc:Learn + convergence test @ 2720 samples accepted.\n"
          ]
        },
        {
          "output_type": "stream",
          "name": "stdout",
          "text": [
            "[mcmc] Learn + convergence test @ 2720 samples accepted.\n"
          ]
        },
        {
          "output_type": "stream",
          "name": "stderr",
          "text": [
            "INFO:mcmc: - Acceptance rate: 0.315\n"
          ]
        },
        {
          "output_type": "stream",
          "name": "stdout",
          "text": [
            "[mcmc]  - Acceptance rate: 0.315\n"
          ]
        },
        {
          "output_type": "stream",
          "name": "stderr",
          "text": [
            "INFO:mcmc: - Convergence of means: R-1 = 0.015634 after 2176 accepted steps\n"
          ]
        },
        {
          "output_type": "stream",
          "name": "stdout",
          "text": [
            "[mcmc]  - Convergence of means: R-1 = 0.015634 after 2176 accepted steps\n"
          ]
        },
        {
          "output_type": "stream",
          "name": "stderr",
          "text": [
            "INFO:mcmc: - Updated covariance matrix of proposal pdf.\n"
          ]
        },
        {
          "output_type": "stream",
          "name": "stdout",
          "text": [
            "[mcmc]  - Updated covariance matrix of proposal pdf.\n"
          ]
        },
        {
          "output_type": "stream",
          "name": "stderr",
          "text": [
            "INFO:mcmc:Learn + convergence test @ 2800 samples accepted.\n"
          ]
        },
        {
          "output_type": "stream",
          "name": "stdout",
          "text": [
            "[mcmc] Learn + convergence test @ 2800 samples accepted.\n"
          ]
        },
        {
          "output_type": "stream",
          "name": "stderr",
          "text": [
            "INFO:mcmc: - Acceptance rate: 0.314\n"
          ]
        },
        {
          "output_type": "stream",
          "name": "stdout",
          "text": [
            "[mcmc]  - Acceptance rate: 0.314\n"
          ]
        },
        {
          "output_type": "stream",
          "name": "stderr",
          "text": [
            "INFO:mcmc: - Convergence of means: R-1 = 0.007321 after 2240 accepted steps\n"
          ]
        },
        {
          "output_type": "stream",
          "name": "stdout",
          "text": [
            "[mcmc]  - Convergence of means: R-1 = 0.007321 after 2240 accepted steps\n"
          ]
        },
        {
          "output_type": "stream",
          "name": "stderr",
          "text": [
            "INFO:mcmc: - Updated covariance matrix of proposal pdf.\n"
          ]
        },
        {
          "output_type": "stream",
          "name": "stdout",
          "text": [
            "[mcmc]  - Updated covariance matrix of proposal pdf.\n"
          ]
        },
        {
          "output_type": "stream",
          "name": "stderr",
          "text": [
            "INFO:mcmc:Learn + convergence test @ 2880 samples accepted.\n"
          ]
        },
        {
          "output_type": "stream",
          "name": "stdout",
          "text": [
            "[mcmc] Learn + convergence test @ 2880 samples accepted.\n"
          ]
        },
        {
          "output_type": "stream",
          "name": "stderr",
          "text": [
            "INFO:mcmc: - Acceptance rate: 0.313\n"
          ]
        },
        {
          "output_type": "stream",
          "name": "stdout",
          "text": [
            "[mcmc]  - Acceptance rate: 0.313\n"
          ]
        },
        {
          "output_type": "stream",
          "name": "stderr",
          "text": [
            "INFO:mcmc: - Convergence of means: R-1 = 0.009326 after 2304 accepted steps\n"
          ]
        },
        {
          "output_type": "stream",
          "name": "stdout",
          "text": [
            "[mcmc]  - Convergence of means: R-1 = 0.009326 after 2304 accepted steps\n"
          ]
        },
        {
          "output_type": "stream",
          "name": "stderr",
          "text": [
            "INFO:mcmc: - Convergence of bounds: R-1 = 0.052699 after 2880 accepted steps\n"
          ]
        },
        {
          "output_type": "stream",
          "name": "stdout",
          "text": [
            "[mcmc]  - Convergence of bounds: R-1 = 0.052699 after 2880 accepted steps\n"
          ]
        },
        {
          "output_type": "stream",
          "name": "stderr",
          "text": [
            "INFO:mcmc:The run has converged!\n"
          ]
        },
        {
          "output_type": "stream",
          "name": "stdout",
          "text": [
            "[mcmc] The run has converged!\n"
          ]
        },
        {
          "output_type": "stream",
          "name": "stderr",
          "text": [
            "INFO:mcmc:Sampling complete after 2880 accepted steps.\n"
          ]
        },
        {
          "output_type": "stream",
          "name": "stdout",
          "text": [
            "[mcmc] Sampling complete after 2880 accepted steps.\n"
          ]
        }
      ],
      "source": [
        "#  We import Cobaya\n",
        "from cobaya.run import run\n",
        "# Now we run!\n",
        "updated_info, sampler = run(info)"
      ]
    },
    {
      "cell_type": "markdown",
      "metadata": {
        "id": "8vak9kLUL33n"
      },
      "source": [
        "### Plot the corresponding distribution using GetDist\n",
        "\n",
        "Do not forget to open the GetDist html DEMO: https://getdist.readthedocs.io/en/latest/plot_gallery.html"
      ]
    },
    {
      "cell_type": "code",
      "execution_count": 13,
      "metadata": {
        "id": "NGDIm2z2L33n",
        "outputId": "b4b1949a-148d-43a3-ce5e-c52157509816",
        "colab": {
          "base_uri": "https://localhost:8080/"
        }
      },
      "outputs": [
        {
          "output_type": "stream",
          "name": "stderr",
          "text": [
            "WARNING:root:outlier fraction 0.001736111111111111 \n"
          ]
        },
        {
          "output_type": "stream",
          "name": "stdout",
          "text": [
            "[root] *WARNING* outlier fraction 0.001736111111111111 \n",
            "Mean:\n",
            "Ellipsis\n",
            "Covariance matrix:\n",
            "Ellipsis\n"
          ]
        }
      ],
      "source": [
        "# Import corresponding modules from GetDist\n",
        "from getdist.mcsamples import loadMCSamples, MCSamplesFromCobaya\n",
        "import getdist.plots as gdplt\n",
        "\n",
        "# Load the chains and the updated config file from the previous run\n",
        "gd_sample = MCSamplesFromCobaya(updated_info, sampler.products()[\"sample\"])\n",
        "\n",
        "# Analyze the chains (print the mean and covmat according to GetDist documentation)\n",
        "mean = ...\n",
        "covmat = ...\n",
        "print(\"Mean:\")\n",
        "print(mean)\n",
        "print(\"Covariance matrix:\")\n",
        "print(covmat)\n",
        "\n",
        "# PLOT THE CHAINS (have a look at the DEMO above from GetDist)\n",
        "# The goal is to produce a triangle plot"
      ]
    },
    {
      "cell_type": "markdown",
      "metadata": {
        "id": "TIruuo_CL33n"
      },
      "source": [
        "### Now, let's change the likelihood above by a new gaussian ring likelihood defined on cartesian coordinates\n",
        "\n",
        "Cobaya allows to pass self-defined likelihoods as likelihoods of the `likelihood` block."
      ]
    },
    {
      "cell_type": "code",
      "execution_count": 14,
      "metadata": {
        "id": "R5sNcf87L33n"
      },
      "outputs": [],
      "source": [
        "# We define the new likelihood as a python function\n",
        "# ATTENTION: Cobaya always needs to return the loglike!\n",
        "\n",
        "def gauss_ring_logp(x, y, mean_radius=1, std=0.02):\n",
        "    \"\"\"\n",
        "    Defines a gaussian ring likelihood on cartesian coordinater,\n",
        "    around some ``mean_radius`` and with some ``std``.\n",
        "    \"\"\"\n",
        "    return stats.norm.logpdf(np.sqrt(x**2 + y**2), loc=mean_radius, scale=std)"
      ]
    },
    {
      "cell_type": "code",
      "execution_count": 15,
      "metadata": {
        "id": "CoGZNgMrL33o"
      },
      "outputs": [],
      "source": [
        "# Let's update the new likelihood in the info dictionary above\n",
        "\n",
        "info = {\"likelihood\": {\"ring\": ...}}"
      ]
    },
    {
      "cell_type": "code",
      "execution_count": 16,
      "metadata": {
        "id": "ti8IFTbCL33o"
      },
      "outputs": [],
      "source": [
        "# The new likelihood requests two new parameters: x and y\n",
        "# Therefore, we need to define them in the params block\n",
        "# of the info dictionary above adding a new prior\n",
        "\n",
        "# Use uniform distributions as priors for x and y between 0 and 2\n",
        "\n",
        "info[\"params\"] = {...}"
      ]
    },
    {
      "cell_type": "code",
      "execution_count": 17,
      "metadata": {
        "id": "GlpylNXuL33p"
      },
      "outputs": [],
      "source": [
        "# We add the polar coordinates theta and radius as derived parameters within the params block\n",
        "\n",
        "def get_r(x, y):\n",
        "    return np.sqrt(x ** 2 + y ** 2)\n",
        "\n",
        "\n",
        "def get_theta(x, y):\n",
        "    return np.arctan(y / x)\n",
        "\n",
        "# Update the params part of the info dictionary with these derived params"
      ]
    },
    {
      "cell_type": "code",
      "execution_count": 18,
      "metadata": {
        "id": "MhKpo4taL33p"
      },
      "outputs": [],
      "source": [
        "# We add some new conditions in the sampler block, to give extra tries in case the mcmc gets stuck\n",
        "\n",
        "info[\"sampler\"] = {\"mcmc\": {\"Rminus1_stop\": 0.001, \"max_tries\": 1000}}\n",
        "\n",
        "# Re-run cobaya as we did above!"
      ]
    },
    {
      "cell_type": "markdown",
      "metadata": {
        "id": "yh1y7w_CL33q"
      },
      "source": [
        "### Replot the chains using GetDist\n",
        "\n",
        "We aim to create two triangle plots: one for the cartesian coordinates x and y, and another for the polar coordinates theta and radius"
      ]
    },
    {
      "cell_type": "code",
      "execution_count": 19,
      "metadata": {
        "id": "4NtWM5JKL33q"
      },
      "outputs": [],
      "source": [
        "# Load the chains and the updated config file from the previous run\n",
        "# Make two triangle plots: one for the cartesian coordinates x and y,\n",
        "# and a different triangle plot for the radius and angle theta"
      ]
    },
    {
      "cell_type": "markdown",
      "metadata": {
        "id": "vUZYReS0L33q"
      },
      "source": [
        "# Exercise 2:\n",
        "\n",
        "### Make an evaluation of the full posterior of the parameters of $\\Lambda$CDM using BAO + SN + PLANCK18\n",
        "\n",
        "In this exercise, we aim to make an evaluation of the posterior distribution of the Standard Cosmological Model parameters using BAO + SN + PLANCK18 data.\n",
        "\n",
        "For that, you need to create a new config file speciying the corresponding likelihoods, the parameters of the $\\Lambda$CDM model and specify the sampler to `evaluate`.\n",
        "\n",
        "What about the `theory` module? Do you need to specify it? What would you choose?\n",
        "\n",
        "If you feel like working, you can change the sampler `evaluate` to the sampler `mcmc` to explore the full posterior distribution. Attention: it will take around 3 or 4 days. Let it run for one night so that tomorrow you can have a look at the chains.\n",
        "\n",
        "- Check this link to see how you can define the new corresponding config file: https://cobaya.readthedocs.io/en/latest/cosmo_basic_runs.html\n",
        "- All the corresponding likelihood names are within the section “COSMOLOGICAL LIKELIHOODS” at https://cobaya.readthedocs.io/en/latest/"
      ]
    },
    {
      "cell_type": "code",
      "execution_count": 25,
      "metadata": {
        "id": "NdIxwRMJL33q"
      },
      "outputs": [],
      "source": [
        "# You need to start by defining a new config python dictionary\n",
        "# (or if you feel brave, you can write a script like a yaml format\n",
        "# and dump it as a python dictionary)\n",
        "\n",
        "# LCDM has 6 parameters, so you need to define at least 6 parameters\n",
        "# to be sampled from within the `params` block\n",
        "\n",
        "info_cosmo = {\n",
        "'likelihood': {'bao.sdss_dr16_baoplus_elg': None,\n",
        "                'bao.sdss_dr16_baoplus_lrg': None,\n",
        "                'bao.sdss_dr16_baoplus_lyauto': None,\n",
        "                'bao.sdss_dr16_baoplus_lyxqso': None,\n",
        "                'bao.sdss_dr16_baoplus_qso': None,\n",
        "                'bao.sdss_dr7_mgs': None,\n",
        "                'bao.sixdf_2011_bao': None,\n",
        "                'planck_NPIPE_highl_CamSpec.TTTEEE.TTTEEE': None,\n",
        "                'planckpr4lensing': None,\n",
        "                'planck_2018_lowl.EE': None,\n",
        "                'planck_2018_lowl.TT': None,\n",
        "                'sn.pantheon': None},\n",
        "'params': {'A': {'derived': 'lambda As: 1e9*As',\n",
        "                  'latex': '10^9 A_\\\\mathrm{s}'},\n",
        "            'As': {'latex': 'A_\\\\mathrm{s}',\n",
        "                   'value': 'lambda logA: 1e-10*np.exp(logA)'},\n",
        "            'DHBBN': {'derived': 'lambda DH: 10**5*DH',\n",
        "                      'latex': '10^5 \\\\mathrm{D}/\\\\mathrm{H}'},\n",
        "            'H0': {'latex': 'H_0', 'max': 100, 'min': 20},\n",
        "            'YHe': {'latex': 'Y_\\\\mathrm{P}'},\n",
        "            'Y_p': {'latex': 'Y_P^\\\\mathrm{BBN}'},\n",
        "            'age': {'latex': '{\\\\rm{Age}}/\\\\mathrm{Gyr}'},\n",
        "            'clamp': {'derived': 'lambda As, tau: 1e9*As*np.exp(-2*tau)',\n",
        "                      'latex': '10^9 A_\\\\mathrm{s} e^{-2\\\\tau}'},\n",
        "            'cosmomc_theta': {'derived': False,\n",
        "                              'value': 'lambda theta_MC_100: '\n",
        "                                       '1.e-2*theta_MC_100'},\n",
        "            'logA': {'drop': True,\n",
        "                     'latex': '\\\\log(10^{10} A_\\\\mathrm{s})',\n",
        "                     'prior': {'max': 3.91, 'min': 1.61},\n",
        "                     'proposal': 0.001,\n",
        "                     'ref': {'dist': 'norm', 'loc': 3.05, 'scale': 0.001}},\n",
        "            'mnu': 0.06,\n",
        "            'ns': {'latex': 'n_\\\\mathrm{s}',\n",
        "                   'prior': {'max': 1.2, 'min': 0.8},\n",
        "                   'proposal': 0.002,\n",
        "                   'ref': {'dist': 'norm', 'loc': 0.965, 'scale': 0.004}},\n",
        "            'ombh2': {'latex': '\\\\Omega_\\\\mathrm{b} h^2',\n",
        "                      'prior': {'max': 0.1, 'min': 0.005},\n",
        "                      'proposal': 0.0001,\n",
        "                      'ref': {'dist': 'norm', 'loc': 0.0224, 'scale': 0.0001}},\n",
        "            'omch2': {'latex': '\\\\Omega_\\\\mathrm{c} h^2',\n",
        "                      'prior': {'max': 0.99, 'min': 0.001},\n",
        "                      'proposal': 0.0005,\n",
        "                      'ref': {'dist': 'norm', 'loc': 0.12, 'scale': 0.001}},\n",
        "            'omega_de': {'latex': '\\\\Omega_\\\\Lambda'},\n",
        "            'omegam': {'latex': '\\\\Omega_\\\\mathrm{m}'},\n",
        "            'omegamh2': {'derived': 'lambda omegam, H0: omegam*(H0/100)**2',\n",
        "                         'latex': '\\\\Omega_\\\\mathrm{m} h^2'},\n",
        "            'rdrag': {'latex': 'r_\\\\mathrm{drag}'},\n",
        "            's8h5': {'derived': 'lambda sigma8, H0: sigma8*(H0*1e-2)**(-0.5)',\n",
        "                     'latex': '\\\\sigma_8/h^{0.5}'},\n",
        "            's8omegamp25': {'derived': 'lambda sigma8, omegam: '\n",
        "                                       'sigma8*omegam**0.25',\n",
        "                            'latex': '\\\\sigma_8 \\\\Omega_\\\\mathrm{m}^{0.25}'},\n",
        "            's8omegamp5': {'derived': 'lambda sigma8, omegam: '\n",
        "                                      'sigma8*omegam**0.5',\n",
        "                           'latex': '\\\\sigma_8 \\\\Omega_\\\\mathrm{m}^{0.5}'},\n",
        "            'sigma8': {'latex': '\\\\sigma_8'},\n",
        "            'tau': {'latex': '\\\\tau_\\\\mathrm{reio}',\n",
        "                    'prior': {'max': 0.8, 'min': 0.01},\n",
        "                    'proposal': 0.003,\n",
        "                    'ref': {'dist': 'norm', 'loc': 0.055, 'scale': 0.006}},\n",
        "            'theta_MC_100': {'drop': True,\n",
        "                             'latex': '100\\\\theta_\\\\mathrm{MC}',\n",
        "                             'prior': {'max': 10, 'min': 0.5},\n",
        "                             'proposal': 0.0002,\n",
        "                             'ref': {'dist': 'norm',\n",
        "                                     'loc': 1.04109,\n",
        "                                     'scale': 0.0004},\n",
        "                             'renames': 'theta'},\n",
        "            'zrei': {'latex': 'z_\\\\mathrm{re}'}},\n",
        "'sampler': {'evaluate': None},\n",
        "'theory': {'camb': {'extra_args': {'bbn_predictor': 'PArthENoPE_880.2_standard.dat',\n",
        "                                    'halofit_version': 'mead',\n",
        "                                    'lens_potential_accuracy': 1,\n",
        "                                    'nnu': 3.046,\n",
        "                                    'num_massive_neutrinos': 1,\n",
        "                                    'theta_H0_range': [20, 100]}}}}"
      ]
    },
    {
      "cell_type": "code",
      "execution_count": 30,
      "metadata": {
        "id": "yf90vqj-L33r",
        "outputId": "1e7ad425-53f1-4a3b-e9fb-19e6b2f4138c",
        "colab": {
          "base_uri": "https://localhost:8080/"
        }
      },
      "outputs": [
        {
          "output_type": "stream",
          "name": "stderr",
          "text": [
            "INFO:camb:`camb` module loaded successfully from /usr/local/lib/python3.12/dist-packages/camb\n"
          ]
        },
        {
          "output_type": "stream",
          "name": "stdout",
          "text": [
            "[camb] `camb` module loaded successfully from /usr/local/lib/python3.12/dist-packages/camb\n"
          ]
        },
        {
          "output_type": "stream",
          "name": "stderr",
          "text": [
            "INFO:bao.sdss_dr16_baoplus_lrg:Initialized.\n"
          ]
        },
        {
          "output_type": "stream",
          "name": "stdout",
          "text": [
            "[bao.sdss_dr16_baoplus_lrg] Initialized.\n"
          ]
        },
        {
          "output_type": "stream",
          "name": "stderr",
          "text": [
            "INFO:bao.sdss_dr16_baoplus_qso:Initialized.\n"
          ]
        },
        {
          "output_type": "stream",
          "name": "stdout",
          "text": [
            "[bao.sdss_dr16_baoplus_qso] Initialized.\n"
          ]
        },
        {
          "output_type": "stream",
          "name": "stderr",
          "text": [
            "INFO:bao.sixdf_2011_bao:Initialized.\n"
          ]
        },
        {
          "output_type": "stream",
          "name": "stdout",
          "text": [
            "[bao.sixdf_2011_bao] Initialized.\n"
          ]
        },
        {
          "output_type": "stream",
          "name": "stderr",
          "text": [
            "INFO:planck_npipe_highl_camspec.ttteee.ttteee:L-range for 143x143: 30 2000\n"
          ]
        },
        {
          "output_type": "stream",
          "name": "stdout",
          "text": [
            "[planck_npipe_highl_camspec.ttteee.ttteee] L-range for 143x143: 30 2000\n"
          ]
        },
        {
          "output_type": "stream",
          "name": "stderr",
          "text": [
            "INFO:planck_npipe_highl_camspec.ttteee.ttteee:L-range for 217x217: 500 2500\n"
          ]
        },
        {
          "output_type": "stream",
          "name": "stdout",
          "text": [
            "[planck_npipe_highl_camspec.ttteee.ttteee] L-range for 217x217: 500 2500\n"
          ]
        },
        {
          "output_type": "stream",
          "name": "stderr",
          "text": [
            "INFO:planck_npipe_highl_camspec.ttteee.ttteee:L-range for 143x217: 500 2500\n"
          ]
        },
        {
          "output_type": "stream",
          "name": "stdout",
          "text": [
            "[planck_npipe_highl_camspec.ttteee.ttteee] L-range for 143x217: 500 2500\n"
          ]
        },
        {
          "output_type": "stream",
          "name": "stderr",
          "text": [
            "INFO:planck_npipe_highl_camspec.ttteee.ttteee:L-range for TE: 30 2000\n"
          ]
        },
        {
          "output_type": "stream",
          "name": "stdout",
          "text": [
            "[planck_npipe_highl_camspec.ttteee.ttteee] L-range for TE: 30 2000\n"
          ]
        },
        {
          "output_type": "stream",
          "name": "stderr",
          "text": [
            "INFO:planck_npipe_highl_camspec.ttteee.ttteee:L-range for EE: 30 2000\n"
          ]
        },
        {
          "output_type": "stream",
          "name": "stdout",
          "text": [
            "[planck_npipe_highl_camspec.ttteee.ttteee] L-range for EE: 30 2000\n"
          ]
        },
        {
          "output_type": "stream",
          "name": "stderr",
          "text": [
            "INFO:planck_npipe_highl_camspec.ttteee.ttteee:Number of data points: 9915\n"
          ]
        },
        {
          "output_type": "stream",
          "name": "stdout",
          "text": [
            "[planck_npipe_highl_camspec.ttteee.ttteee] Number of data points: 9915\n"
          ]
        },
        {
          "output_type": "stream",
          "name": "stderr",
          "text": [
            "INFO:evaluate:Initialized!\n"
          ]
        },
        {
          "output_type": "stream",
          "name": "stdout",
          "text": [
            "[evaluate] Initialized!\n"
          ]
        },
        {
          "output_type": "stream",
          "name": "stderr",
          "text": [
            "INFO:evaluate:Looking for a reference point with non-zero prior.\n"
          ]
        },
        {
          "output_type": "stream",
          "name": "stdout",
          "text": [
            "[evaluate] Looking for a reference point with non-zero prior.\n"
          ]
        },
        {
          "output_type": "stream",
          "name": "stderr",
          "text": [
            "INFO:evaluate:Reference point:\n",
            "   logA = 3.04975\n",
            "   ns = 0.966448\n",
            "   ombh2 = 0.0223905\n",
            "   omch2 = 0.120137\n",
            "   tau = 0.0543361\n",
            "   theta_MC_100 = 1.04078\n",
            "   A_planck = 1.00181\n",
            "   amp_143 = 11.4136\n",
            "   amp_217 = 19.1683\n",
            "   amp_143x217 = 9.22871\n",
            "   n_143 = 1.10269\n",
            "   n_217 = 0.847953\n",
            "   n_143x217 = 1.04308\n",
            "   calTE = 1.00238\n",
            "   calEE = 0.994097\n"
          ]
        },
        {
          "output_type": "stream",
          "name": "stdout",
          "text": [
            "[evaluate] Reference point:\n",
            "   logA = 3.04975\n",
            "   ns = 0.966448\n",
            "   ombh2 = 0.0223905\n",
            "   omch2 = 0.120137\n",
            "   tau = 0.0543361\n",
            "   theta_MC_100 = 1.04078\n",
            "   A_planck = 1.00181\n",
            "   amp_143 = 11.4136\n",
            "   amp_217 = 19.1683\n",
            "   amp_143x217 = 9.22871\n",
            "   n_143 = 1.10269\n",
            "   n_217 = 0.847953\n",
            "   n_143x217 = 1.04308\n",
            "   calTE = 1.00238\n",
            "   calEE = 0.994097\n"
          ]
        },
        {
          "output_type": "stream",
          "name": "stderr",
          "text": [
            "INFO:evaluate:Evaluating prior and likelihoods...\n"
          ]
        },
        {
          "output_type": "stream",
          "name": "stdout",
          "text": [
            "[evaluate] Evaluating prior and likelihoods...\n"
          ]
        },
        {
          "output_type": "stream",
          "name": "stderr",
          "text": [
            "INFO:evaluate:log-posterior  = -6256.49\n"
          ]
        },
        {
          "output_type": "stream",
          "name": "stdout",
          "text": [
            "[evaluate] log-posterior  = -6256.49\n"
          ]
        },
        {
          "output_type": "stream",
          "name": "stderr",
          "text": [
            "INFO:evaluate:log-prior      = -4.1515\n"
          ]
        },
        {
          "output_type": "stream",
          "name": "stdout",
          "text": [
            "[evaluate] log-prior      = -4.1515\n"
          ]
        },
        {
          "output_type": "stream",
          "name": "stderr",
          "text": [
            "INFO:evaluate:   logprior_0 = -4.1515\n"
          ]
        },
        {
          "output_type": "stream",
          "name": "stdout",
          "text": [
            "[evaluate]    logprior_0 = -4.1515\n"
          ]
        },
        {
          "output_type": "stream",
          "name": "stderr",
          "text": [
            "INFO:evaluate:log-likelihood = -6252.34\n"
          ]
        },
        {
          "output_type": "stream",
          "name": "stdout",
          "text": [
            "[evaluate] log-likelihood = -6252.34\n"
          ]
        },
        {
          "output_type": "stream",
          "name": "stderr",
          "text": [
            "INFO:evaluate:   chi2_bao.sdss_dr16_baoplus_elg = 2.90205\n"
          ]
        },
        {
          "output_type": "stream",
          "name": "stdout",
          "text": [
            "[evaluate]    chi2_bao.sdss_dr16_baoplus_elg = 2.90205\n"
          ]
        },
        {
          "output_type": "stream",
          "name": "stderr",
          "text": [
            "INFO:evaluate:   chi2_bao.sdss_dr16_baoplus_lrg = 6.1052\n"
          ]
        },
        {
          "output_type": "stream",
          "name": "stdout",
          "text": [
            "[evaluate]    chi2_bao.sdss_dr16_baoplus_lrg = 6.1052\n"
          ]
        },
        {
          "output_type": "stream",
          "name": "stderr",
          "text": [
            "INFO:evaluate:   chi2_bao.sdss_dr16_baoplus_lyauto = 1.72811\n"
          ]
        },
        {
          "output_type": "stream",
          "name": "stdout",
          "text": [
            "[evaluate]    chi2_bao.sdss_dr16_baoplus_lyauto = 1.72811\n"
          ]
        },
        {
          "output_type": "stream",
          "name": "stderr",
          "text": [
            "INFO:evaluate:   chi2_bao.sdss_dr16_baoplus_lyxqso = 3.23655\n"
          ]
        },
        {
          "output_type": "stream",
          "name": "stdout",
          "text": [
            "[evaluate]    chi2_bao.sdss_dr16_baoplus_lyxqso = 3.23655\n"
          ]
        },
        {
          "output_type": "stream",
          "name": "stderr",
          "text": [
            "INFO:evaluate:   chi2_bao.sdss_dr16_baoplus_qso = 10.434\n"
          ]
        },
        {
          "output_type": "stream",
          "name": "stdout",
          "text": [
            "[evaluate]    chi2_bao.sdss_dr16_baoplus_qso = 10.434\n"
          ]
        },
        {
          "output_type": "stream",
          "name": "stderr",
          "text": [
            "INFO:evaluate:   chi2_bao.sdss_dr7_mgs = 0.871709\n"
          ]
        },
        {
          "output_type": "stream",
          "name": "stdout",
          "text": [
            "[evaluate]    chi2_bao.sdss_dr7_mgs = 0.871709\n"
          ]
        },
        {
          "output_type": "stream",
          "name": "stderr",
          "text": [
            "INFO:evaluate:   chi2_bao.sixdf_2011_bao = 0.101846\n"
          ]
        },
        {
          "output_type": "stream",
          "name": "stdout",
          "text": [
            "[evaluate]    chi2_bao.sixdf_2011_bao = 0.101846\n"
          ]
        },
        {
          "output_type": "stream",
          "name": "stderr",
          "text": [
            "INFO:evaluate:   chi2_planck_NPIPE_highl_CamSpec.TTTEEE.TTTEEE = 11015.3\n"
          ]
        },
        {
          "output_type": "stream",
          "name": "stdout",
          "text": [
            "[evaluate]    chi2_planck_NPIPE_highl_CamSpec.TTTEEE.TTTEEE = 11015.3\n"
          ]
        },
        {
          "output_type": "stream",
          "name": "stderr",
          "text": [
            "INFO:evaluate:   chi2_planckpr4lensing = 9.36519\n"
          ]
        },
        {
          "output_type": "stream",
          "name": "stdout",
          "text": [
            "[evaluate]    chi2_planckpr4lensing = 9.36519\n"
          ]
        },
        {
          "output_type": "stream",
          "name": "stderr",
          "text": [
            "INFO:evaluate:   chi2_planck_2018_lowl.EE = 396.065\n"
          ]
        },
        {
          "output_type": "stream",
          "name": "stdout",
          "text": [
            "[evaluate]    chi2_planck_2018_lowl.EE = 396.065\n"
          ]
        },
        {
          "output_type": "stream",
          "name": "stderr",
          "text": [
            "INFO:evaluate:   chi2_planck_2018_lowl.TT = 23.2252\n"
          ]
        },
        {
          "output_type": "stream",
          "name": "stdout",
          "text": [
            "[evaluate]    chi2_planck_2018_lowl.TT = 23.2252\n"
          ]
        },
        {
          "output_type": "stream",
          "name": "stderr",
          "text": [
            "INFO:evaluate:   chi2_sn.pantheon = 1035.34\n"
          ]
        },
        {
          "output_type": "stream",
          "name": "stdout",
          "text": [
            "[evaluate]    chi2_sn.pantheon = 1035.34\n"
          ]
        },
        {
          "output_type": "stream",
          "name": "stderr",
          "text": [
            "INFO:evaluate:Derived params:\n"
          ]
        },
        {
          "output_type": "stream",
          "name": "stdout",
          "text": [
            "[evaluate] Derived params:\n"
          ]
        },
        {
          "output_type": "stream",
          "name": "stderr",
          "text": [
            "INFO:evaluate:   A = 2.11101\n"
          ]
        },
        {
          "output_type": "stream",
          "name": "stdout",
          "text": [
            "[evaluate]    A = 2.11101\n"
          ]
        },
        {
          "output_type": "stream",
          "name": "stderr",
          "text": [
            "INFO:evaluate:   As = 2.11101e-09\n"
          ]
        },
        {
          "output_type": "stream",
          "name": "stdout",
          "text": [
            "[evaluate]    As = 2.11101e-09\n"
          ]
        },
        {
          "output_type": "stream",
          "name": "stderr",
          "text": [
            "INFO:evaluate:   DHBBN = 2.58244\n"
          ]
        },
        {
          "output_type": "stream",
          "name": "stdout",
          "text": [
            "[evaluate]    DHBBN = 2.58244\n"
          ]
        },
        {
          "output_type": "stream",
          "name": "stderr",
          "text": [
            "INFO:evaluate:   H0 = 67.286\n"
          ]
        },
        {
          "output_type": "stream",
          "name": "stdout",
          "text": [
            "[evaluate]    H0 = 67.286\n"
          ]
        },
        {
          "output_type": "stream",
          "name": "stderr",
          "text": [
            "INFO:evaluate:   YHe = 0.24543\n"
          ]
        },
        {
          "output_type": "stream",
          "name": "stdout",
          "text": [
            "[evaluate]    YHe = 0.24543\n"
          ]
        },
        {
          "output_type": "stream",
          "name": "stderr",
          "text": [
            "INFO:evaluate:   Y_p = 0.24676\n"
          ]
        },
        {
          "output_type": "stream",
          "name": "stdout",
          "text": [
            "[evaluate]    Y_p = 0.24676\n"
          ]
        },
        {
          "output_type": "stream",
          "name": "stderr",
          "text": [
            "INFO:evaluate:   age = 13.7992\n"
          ]
        },
        {
          "output_type": "stream",
          "name": "stdout",
          "text": [
            "[evaluate]    age = 13.7992\n"
          ]
        },
        {
          "output_type": "stream",
          "name": "stderr",
          "text": [
            "INFO:evaluate:   clamp = 1.89363\n"
          ]
        },
        {
          "output_type": "stream",
          "name": "stdout",
          "text": [
            "[evaluate]    clamp = 1.89363\n"
          ]
        },
        {
          "output_type": "stream",
          "name": "stderr",
          "text": [
            "INFO:evaluate:   omega_de = 0.683685\n"
          ]
        },
        {
          "output_type": "stream",
          "name": "stdout",
          "text": [
            "[evaluate]    omega_de = 0.683685\n"
          ]
        },
        {
          "output_type": "stream",
          "name": "stderr",
          "text": [
            "INFO:evaluate:   omegam = 0.316235\n"
          ]
        },
        {
          "output_type": "stream",
          "name": "stdout",
          "text": [
            "[evaluate]    omegam = 0.316235\n"
          ]
        },
        {
          "output_type": "stream",
          "name": "stderr",
          "text": [
            "INFO:evaluate:   omegamh2 = 0.143172\n"
          ]
        },
        {
          "output_type": "stream",
          "name": "stdout",
          "text": [
            "[evaluate]    omegamh2 = 0.143172\n"
          ]
        },
        {
          "output_type": "stream",
          "name": "stderr",
          "text": [
            "INFO:evaluate:   rdrag = 147.034\n"
          ]
        },
        {
          "output_type": "stream",
          "name": "stdout",
          "text": [
            "[evaluate]    rdrag = 147.034\n"
          ]
        },
        {
          "output_type": "stream",
          "name": "stderr",
          "text": [
            "INFO:evaluate:   s8h5 = 0.992369\n"
          ]
        },
        {
          "output_type": "stream",
          "name": "stdout",
          "text": [
            "[evaluate]    s8h5 = 0.992369\n"
          ]
        },
        {
          "output_type": "stream",
          "name": "stderr",
          "text": [
            "INFO:evaluate:   s8omegamp25 = 0.610433\n"
          ]
        },
        {
          "output_type": "stream",
          "name": "stdout",
          "text": [
            "[evaluate]    s8omegamp25 = 0.610433\n"
          ]
        },
        {
          "output_type": "stream",
          "name": "stderr",
          "text": [
            "INFO:evaluate:   s8omegamp5 = 0.457763\n"
          ]
        },
        {
          "output_type": "stream",
          "name": "stdout",
          "text": [
            "[evaluate]    s8omegamp5 = 0.457763\n"
          ]
        },
        {
          "output_type": "stream",
          "name": "stderr",
          "text": [
            "INFO:evaluate:   sigma8 = 0.814021\n"
          ]
        },
        {
          "output_type": "stream",
          "name": "stdout",
          "text": [
            "[evaluate]    sigma8 = 0.814021\n"
          ]
        },
        {
          "output_type": "stream",
          "name": "stderr",
          "text": [
            "INFO:evaluate:   zrei = 7.68186\n"
          ]
        },
        {
          "output_type": "stream",
          "name": "stdout",
          "text": [
            "[evaluate]    zrei = 7.68186\n"
          ]
        },
        {
          "output_type": "stream",
          "name": "stderr",
          "text": [
            "INFO:evaluate:   chi2__BAO = 25.3794\n"
          ]
        },
        {
          "output_type": "stream",
          "name": "stdout",
          "text": [
            "[evaluate]    chi2__BAO = 25.3794\n"
          ]
        },
        {
          "output_type": "stream",
          "name": "stderr",
          "text": [
            "INFO:evaluate:   chi2__CMB = 11444\n"
          ]
        },
        {
          "output_type": "stream",
          "name": "stdout",
          "text": [
            "[evaluate]    chi2__CMB = 11444\n"
          ]
        },
        {
          "output_type": "stream",
          "name": "stderr",
          "text": [
            "INFO:evaluate:   chi2__SN = 1035.34\n"
          ]
        },
        {
          "output_type": "stream",
          "name": "stdout",
          "text": [
            "[evaluate]    chi2__SN = 1035.34\n"
          ]
        }
      ],
      "source": [
        "updated_info, sampler = run(info_cosmo)\n"
      ]
    },
    {
      "cell_type": "code",
      "source": [
        "# Export the results to GetDist\n",
        "# gd_sample = sampler.products(to_getdist=True)[\"sample\"]\n",
        "\n",
        "gd_sample = sampler.products()[\"sample\"]\n",
        "\n",
        "\n",
        "# # Analyze and plot\n",
        "# mean = gd_sample.getMeans()[:2]\n",
        "# covmat = gd_sample.getCovMat().matrix[:2, :2]\n",
        "# print(\"Mean:\")\n",
        "# print(mean)\n",
        "# print(\"Covariance matrix:\")\n",
        "# print(covmat)\n",
        "# # %matplotlib inline  # uncomment if running from the Jupyter notebook\n",
        "# import getdist.plots as gdplt\n",
        "\n",
        "gdplot = gdplt.get_subplot_plotter()\n",
        "gdplot.triangle_plot(gd_sample, [\"As\", \"H0\", \"ns\", \"omegam\", \"sigma8\"], filled=True)"
      ],
      "metadata": {
        "id": "XPRrBcyaPqpT",
        "outputId": "f48d4fc0-1cff-4186-d799-712c12389673",
        "colab": {
          "base_uri": "https://localhost:8080/",
          "height": 321
        }
      },
      "execution_count": 35,
      "outputs": [
        {
          "output_type": "error",
          "ename": "GetDistPlotError",
          "evalue": "Root names must be strings (or MCSamples instances)",
          "traceback": [
            "\u001b[0;31m---------------------------------------------------------------------------\u001b[0m",
            "\u001b[0;31mGetDistPlotError\u001b[0m                          Traceback (most recent call last)",
            "\u001b[0;32m/tmp/ipython-input-479983792.py\u001b[0m in \u001b[0;36m<cell line: 0>\u001b[0;34m()\u001b[0m\n\u001b[1;32m     16\u001b[0m \u001b[0;34m\u001b[0m\u001b[0m\n\u001b[1;32m     17\u001b[0m \u001b[0mgdplot\u001b[0m \u001b[0;34m=\u001b[0m \u001b[0mgdplt\u001b[0m\u001b[0;34m.\u001b[0m\u001b[0mget_subplot_plotter\u001b[0m\u001b[0;34m(\u001b[0m\u001b[0;34m)\u001b[0m\u001b[0;34m\u001b[0m\u001b[0;34m\u001b[0m\u001b[0m\n\u001b[0;32m---> 18\u001b[0;31m \u001b[0mgdplot\u001b[0m\u001b[0;34m.\u001b[0m\u001b[0mtriangle_plot\u001b[0m\u001b[0;34m(\u001b[0m\u001b[0mgd_sample\u001b[0m\u001b[0;34m,\u001b[0m \u001b[0;34m[\u001b[0m\u001b[0;34m\"As\"\u001b[0m\u001b[0;34m,\u001b[0m \u001b[0;34m\"H0\"\u001b[0m\u001b[0;34m,\u001b[0m \u001b[0;34m\"ns\"\u001b[0m\u001b[0;34m,\u001b[0m \u001b[0;34m\"omegam\"\u001b[0m\u001b[0;34m,\u001b[0m \u001b[0;34m\"sigma8\"\u001b[0m\u001b[0;34m]\u001b[0m\u001b[0;34m,\u001b[0m \u001b[0mfilled\u001b[0m\u001b[0;34m=\u001b[0m\u001b[0;32mTrue\u001b[0m\u001b[0;34m)\u001b[0m\u001b[0;34m\u001b[0m\u001b[0;34m\u001b[0m\u001b[0m\n\u001b[0m",
            "\u001b[0;32m/usr/local/lib/python3.12/dist-packages/getdist/plots.py\u001b[0m in \u001b[0;36mtriangle_plot\u001b[0;34m(self, roots, params, legend_labels, plot_3d_with_param, filled, shaded, contour_args, contour_colors, contour_ls, contour_lws, line_args, label_order, legend_ncol, legend_loc, title_limit, upper_roots, upper_kwargs, upper_label_right, diag1d_kwargs, markers, marker_args, param_limits, **kwargs)\u001b[0m\n\u001b[1;32m   2697\u001b[0m         \"\"\"\n\u001b[1;32m   2698\u001b[0m         \u001b[0mroots\u001b[0m \u001b[0;34m=\u001b[0m \u001b[0mmakeList\u001b[0m\u001b[0;34m(\u001b[0m\u001b[0mroots\u001b[0m\u001b[0;34m)\u001b[0m\u001b[0;34m\u001b[0m\u001b[0;34m\u001b[0m\u001b[0m\n\u001b[0;32m-> 2699\u001b[0;31m         \u001b[0mparams\u001b[0m \u001b[0;34m=\u001b[0m \u001b[0mself\u001b[0m\u001b[0;34m.\u001b[0m\u001b[0mget_param_array\u001b[0m\u001b[0;34m(\u001b[0m\u001b[0mroots\u001b[0m\u001b[0;34m,\u001b[0m \u001b[0mparams\u001b[0m\u001b[0;34m)\u001b[0m\u001b[0;34m\u001b[0m\u001b[0;34m\u001b[0m\u001b[0m\n\u001b[0m\u001b[1;32m   2700\u001b[0m         \u001b[0mplot_col\u001b[0m \u001b[0;34m=\u001b[0m \u001b[0mlen\u001b[0m\u001b[0;34m(\u001b[0m\u001b[0mparams\u001b[0m\u001b[0;34m)\u001b[0m\u001b[0;34m\u001b[0m\u001b[0;34m\u001b[0m\u001b[0m\n\u001b[1;32m   2701\u001b[0m         \u001b[0;32mif\u001b[0m \u001b[0mplot_3d_with_param\u001b[0m \u001b[0;32mis\u001b[0m \u001b[0;32mnot\u001b[0m \u001b[0;32mNone\u001b[0m\u001b[0;34m:\u001b[0m\u001b[0;34m\u001b[0m\u001b[0;34m\u001b[0m\u001b[0m\n",
            "\u001b[0;32m/usr/local/lib/python3.12/dist-packages/getdist/plots.py\u001b[0m in \u001b[0;36mget_param_array\u001b[0;34m(self, roots, params, renames)\u001b[0m\n\u001b[1;32m   1971\u001b[0m             \u001b[0mnames\u001b[0m \u001b[0;34m=\u001b[0m \u001b[0mParamNames\u001b[0m\u001b[0;34m(\u001b[0m\u001b[0mnames\u001b[0m\u001b[0;34m=\u001b[0m\u001b[0mroot\u001b[0m\u001b[0;34m.\u001b[0m\u001b[0mnames\u001b[0m\u001b[0;34m,\u001b[0m \u001b[0mdefault\u001b[0m\u001b[0;34m=\u001b[0m\u001b[0mgetattr\u001b[0m\u001b[0;34m(\u001b[0m\u001b[0mroot\u001b[0m\u001b[0;34m,\u001b[0m \u001b[0;34m\"dim\"\u001b[0m\u001b[0;34m,\u001b[0m \u001b[0;36m0\u001b[0m\u001b[0;34m)\u001b[0m\u001b[0;34m)\u001b[0m\u001b[0;34m\u001b[0m\u001b[0;34m\u001b[0m\u001b[0m\n\u001b[1;32m   1972\u001b[0m         \u001b[0;32melse\u001b[0m\u001b[0;34m:\u001b[0m\u001b[0;34m\u001b[0m\u001b[0;34m\u001b[0m\u001b[0m\n\u001b[0;32m-> 1973\u001b[0;31m             \u001b[0mnames\u001b[0m \u001b[0;34m=\u001b[0m \u001b[0mself\u001b[0m\u001b[0;34m.\u001b[0m\u001b[0mparam_names_for_root\u001b[0m\u001b[0;34m(\u001b[0m\u001b[0mroot\u001b[0m\u001b[0;34m)\u001b[0m\u001b[0;34m\u001b[0m\u001b[0;34m\u001b[0m\u001b[0m\n\u001b[0m\u001b[1;32m   1974\u001b[0m \u001b[0;34m\u001b[0m\u001b[0m\n\u001b[1;32m   1975\u001b[0m         \u001b[0;32mif\u001b[0m \u001b[0mparams\u001b[0m \u001b[0;32mis\u001b[0m \u001b[0;32mNone\u001b[0m \u001b[0;32mor\u001b[0m \u001b[0mlen\u001b[0m\u001b[0;34m(\u001b[0m\u001b[0mparams\u001b[0m\u001b[0;34m)\u001b[0m \u001b[0;34m==\u001b[0m \u001b[0;36m0\u001b[0m\u001b[0;34m:\u001b[0m\u001b[0;34m\u001b[0m\u001b[0;34m\u001b[0m\u001b[0m\n",
            "\u001b[0;32m/usr/local/lib/python3.12/dist-packages/getdist/plots.py\u001b[0m in \u001b[0;36mparam_names_for_root\u001b[0;34m(self, root)\u001b[0m\n\u001b[1;32m    939\u001b[0m         \"\"\"\n\u001b[1;32m    940\u001b[0m         \u001b[0;32mif\u001b[0m \u001b[0mroot\u001b[0m \u001b[0;32mnot\u001b[0m \u001b[0;32min\u001b[0m \u001b[0mself\u001b[0m\u001b[0;34m.\u001b[0m\u001b[0mparam_name_sets\u001b[0m\u001b[0;34m:\u001b[0m\u001b[0;34m\u001b[0m\u001b[0;34m\u001b[0m\u001b[0m\n\u001b[0;32m--> 941\u001b[0;31m             self.param_name_sets[root] = self.sample_analyser.params_for_root(\n\u001b[0m\u001b[1;32m    942\u001b[0m                 \u001b[0mroot\u001b[0m\u001b[0;34m,\u001b[0m \u001b[0mlabel_params\u001b[0m\u001b[0;34m=\u001b[0m\u001b[0mself\u001b[0m\u001b[0;34m.\u001b[0m\u001b[0msettings\u001b[0m\u001b[0;34m.\u001b[0m\u001b[0mparam_names_for_labels\u001b[0m\u001b[0;34m\u001b[0m\u001b[0;34m\u001b[0m\u001b[0m\n\u001b[1;32m    943\u001b[0m             )\n",
            "\u001b[0;32m/usr/local/lib/python3.12/dist-packages/getdist/plots.py\u001b[0m in \u001b[0;36mparams_for_root\u001b[0;34m(self, root, label_params)\u001b[0m\n\u001b[1;32m    668\u001b[0m             \u001b[0mnames\u001b[0m \u001b[0;34m=\u001b[0m \u001b[0mroot\u001b[0m\u001b[0;34m.\u001b[0m\u001b[0mparamNames\u001b[0m\u001b[0;34m\u001b[0m\u001b[0;34m\u001b[0m\u001b[0m\n\u001b[1;32m    669\u001b[0m         \u001b[0;32melse\u001b[0m\u001b[0;34m:\u001b[0m\u001b[0;34m\u001b[0m\u001b[0;34m\u001b[0m\u001b[0m\n\u001b[0;32m--> 670\u001b[0;31m             \u001b[0msamples\u001b[0m \u001b[0;34m=\u001b[0m \u001b[0mself\u001b[0m\u001b[0;34m.\u001b[0m\u001b[0msamples_for_root\u001b[0m\u001b[0;34m(\u001b[0m\u001b[0mroot\u001b[0m\u001b[0;34m)\u001b[0m\u001b[0;34m\u001b[0m\u001b[0;34m\u001b[0m\u001b[0m\n\u001b[0m\u001b[1;32m    671\u001b[0m             \u001b[0mnames\u001b[0m \u001b[0;34m=\u001b[0m \u001b[0msamples\u001b[0m\u001b[0;34m.\u001b[0m\u001b[0mgetParamNames\u001b[0m\u001b[0;34m(\u001b[0m\u001b[0;34m)\u001b[0m\u001b[0;34m\u001b[0m\u001b[0;34m\u001b[0m\u001b[0m\n\u001b[1;32m    672\u001b[0m         \u001b[0;32mif\u001b[0m \u001b[0mlabel_params\u001b[0m \u001b[0;32mis\u001b[0m \u001b[0;32mnot\u001b[0m \u001b[0;32mNone\u001b[0m\u001b[0;34m:\u001b[0m\u001b[0;34m\u001b[0m\u001b[0;34m\u001b[0m\u001b[0m\n",
            "\u001b[0;32m/usr/local/lib/python3.12/dist-packages/getdist/plots.py\u001b[0m in \u001b[0;36msamples_for_root\u001b[0;34m(self, root, file_root, cache, settings)\u001b[0m\n\u001b[1;32m    514\u001b[0m             \u001b[0;32mraise\u001b[0m \u001b[0mGetDistPlotError\u001b[0m\u001b[0;34m(\u001b[0m\u001b[0;34m\"MixtureND is a distribution not a set of samples\"\u001b[0m\u001b[0;34m)\u001b[0m\u001b[0;34m\u001b[0m\u001b[0;34m\u001b[0m\u001b[0m\n\u001b[1;32m    515\u001b[0m         \u001b[0;32melif\u001b[0m \u001b[0;32mnot\u001b[0m \u001b[0misinstance\u001b[0m\u001b[0;34m(\u001b[0m\u001b[0mroot\u001b[0m\u001b[0;34m,\u001b[0m \u001b[0mstr\u001b[0m\u001b[0;34m)\u001b[0m\u001b[0;34m:\u001b[0m\u001b[0;34m\u001b[0m\u001b[0;34m\u001b[0m\u001b[0m\n\u001b[0;32m--> 516\u001b[0;31m             \u001b[0;32mraise\u001b[0m \u001b[0mGetDistPlotError\u001b[0m\u001b[0;34m(\u001b[0m\u001b[0;34m\"Root names must be strings (or MCSamples instances)\"\u001b[0m\u001b[0;34m)\u001b[0m\u001b[0;34m\u001b[0m\u001b[0;34m\u001b[0m\u001b[0m\n\u001b[0m\u001b[1;32m    517\u001b[0m         \u001b[0;32mif\u001b[0m \u001b[0mroot\u001b[0m \u001b[0;32min\u001b[0m \u001b[0mself\u001b[0m\u001b[0;34m.\u001b[0m\u001b[0mmcsamples\u001b[0m \u001b[0;32mand\u001b[0m \u001b[0mcache\u001b[0m\u001b[0;34m:\u001b[0m\u001b[0;34m\u001b[0m\u001b[0;34m\u001b[0m\u001b[0m\n\u001b[1;32m    518\u001b[0m             \u001b[0;32mreturn\u001b[0m \u001b[0mself\u001b[0m\u001b[0;34m.\u001b[0m\u001b[0mmcsamples\u001b[0m\u001b[0;34m[\u001b[0m\u001b[0mroot\u001b[0m\u001b[0;34m]\u001b[0m\u001b[0;34m\u001b[0m\u001b[0;34m\u001b[0m\u001b[0m\n",
            "\u001b[0;31mGetDistPlotError\u001b[0m: Root names must be strings (or MCSamples instances)"
          ]
        }
      ]
    },
    {
      "cell_type": "code",
      "source": [
        "gd_sample = sampler.products()[\"sample\"]\n",
        "\n",
        "gdplot = gdplt.get_subplot_plotter()\n",
        "gdplot.triangle_plot(gd_sample, [\"ns\", \"As\"], filled=True)"
      ],
      "metadata": {
        "id": "3W8GHqlCQIDj",
        "outputId": "dd38b9a0-14be-42c2-be85-962a5d6578b6",
        "colab": {
          "base_uri": "https://localhost:8080/",
          "height": 304
        }
      },
      "execution_count": 37,
      "outputs": [
        {
          "output_type": "error",
          "ename": "GetDistPlotError",
          "evalue": "Root names must be strings (or MCSamples instances)",
          "traceback": [
            "\u001b[0;31m---------------------------------------------------------------------------\u001b[0m",
            "\u001b[0;31mGetDistPlotError\u001b[0m                          Traceback (most recent call last)",
            "\u001b[0;32m/tmp/ipython-input-923577157.py\u001b[0m in \u001b[0;36m<cell line: 0>\u001b[0;34m()\u001b[0m\n\u001b[1;32m      1\u001b[0m \u001b[0mgdplot\u001b[0m \u001b[0;34m=\u001b[0m \u001b[0mgdplt\u001b[0m\u001b[0;34m.\u001b[0m\u001b[0mget_subplot_plotter\u001b[0m\u001b[0;34m(\u001b[0m\u001b[0;34m)\u001b[0m\u001b[0;34m\u001b[0m\u001b[0;34m\u001b[0m\u001b[0m\n\u001b[0;32m----> 2\u001b[0;31m \u001b[0mgdplot\u001b[0m\u001b[0;34m.\u001b[0m\u001b[0mtriangle_plot\u001b[0m\u001b[0;34m(\u001b[0m\u001b[0mgd_sample\u001b[0m\u001b[0;34m,\u001b[0m \u001b[0;34m[\u001b[0m\u001b[0;34m\"ns\"\u001b[0m\u001b[0;34m,\u001b[0m \u001b[0;34m\"As\"\u001b[0m\u001b[0;34m]\u001b[0m\u001b[0;34m,\u001b[0m \u001b[0mfilled\u001b[0m\u001b[0;34m=\u001b[0m\u001b[0;32mTrue\u001b[0m\u001b[0;34m)\u001b[0m\u001b[0;34m\u001b[0m\u001b[0;34m\u001b[0m\u001b[0m\n\u001b[0m",
            "\u001b[0;32m/usr/local/lib/python3.12/dist-packages/getdist/plots.py\u001b[0m in \u001b[0;36mtriangle_plot\u001b[0;34m(self, roots, params, legend_labels, plot_3d_with_param, filled, shaded, contour_args, contour_colors, contour_ls, contour_lws, line_args, label_order, legend_ncol, legend_loc, title_limit, upper_roots, upper_kwargs, upper_label_right, diag1d_kwargs, markers, marker_args, param_limits, **kwargs)\u001b[0m\n\u001b[1;32m   2697\u001b[0m         \"\"\"\n\u001b[1;32m   2698\u001b[0m         \u001b[0mroots\u001b[0m \u001b[0;34m=\u001b[0m \u001b[0mmakeList\u001b[0m\u001b[0;34m(\u001b[0m\u001b[0mroots\u001b[0m\u001b[0;34m)\u001b[0m\u001b[0;34m\u001b[0m\u001b[0;34m\u001b[0m\u001b[0m\n\u001b[0;32m-> 2699\u001b[0;31m         \u001b[0mparams\u001b[0m \u001b[0;34m=\u001b[0m \u001b[0mself\u001b[0m\u001b[0;34m.\u001b[0m\u001b[0mget_param_array\u001b[0m\u001b[0;34m(\u001b[0m\u001b[0mroots\u001b[0m\u001b[0;34m,\u001b[0m \u001b[0mparams\u001b[0m\u001b[0;34m)\u001b[0m\u001b[0;34m\u001b[0m\u001b[0;34m\u001b[0m\u001b[0m\n\u001b[0m\u001b[1;32m   2700\u001b[0m         \u001b[0mplot_col\u001b[0m \u001b[0;34m=\u001b[0m \u001b[0mlen\u001b[0m\u001b[0;34m(\u001b[0m\u001b[0mparams\u001b[0m\u001b[0;34m)\u001b[0m\u001b[0;34m\u001b[0m\u001b[0;34m\u001b[0m\u001b[0m\n\u001b[1;32m   2701\u001b[0m         \u001b[0;32mif\u001b[0m \u001b[0mplot_3d_with_param\u001b[0m \u001b[0;32mis\u001b[0m \u001b[0;32mnot\u001b[0m \u001b[0;32mNone\u001b[0m\u001b[0;34m:\u001b[0m\u001b[0;34m\u001b[0m\u001b[0;34m\u001b[0m\u001b[0m\n",
            "\u001b[0;32m/usr/local/lib/python3.12/dist-packages/getdist/plots.py\u001b[0m in \u001b[0;36mget_param_array\u001b[0;34m(self, roots, params, renames)\u001b[0m\n\u001b[1;32m   1971\u001b[0m             \u001b[0mnames\u001b[0m \u001b[0;34m=\u001b[0m \u001b[0mParamNames\u001b[0m\u001b[0;34m(\u001b[0m\u001b[0mnames\u001b[0m\u001b[0;34m=\u001b[0m\u001b[0mroot\u001b[0m\u001b[0;34m.\u001b[0m\u001b[0mnames\u001b[0m\u001b[0;34m,\u001b[0m \u001b[0mdefault\u001b[0m\u001b[0;34m=\u001b[0m\u001b[0mgetattr\u001b[0m\u001b[0;34m(\u001b[0m\u001b[0mroot\u001b[0m\u001b[0;34m,\u001b[0m \u001b[0;34m\"dim\"\u001b[0m\u001b[0;34m,\u001b[0m \u001b[0;36m0\u001b[0m\u001b[0;34m)\u001b[0m\u001b[0;34m)\u001b[0m\u001b[0;34m\u001b[0m\u001b[0;34m\u001b[0m\u001b[0m\n\u001b[1;32m   1972\u001b[0m         \u001b[0;32melse\u001b[0m\u001b[0;34m:\u001b[0m\u001b[0;34m\u001b[0m\u001b[0;34m\u001b[0m\u001b[0m\n\u001b[0;32m-> 1973\u001b[0;31m             \u001b[0mnames\u001b[0m \u001b[0;34m=\u001b[0m \u001b[0mself\u001b[0m\u001b[0;34m.\u001b[0m\u001b[0mparam_names_for_root\u001b[0m\u001b[0;34m(\u001b[0m\u001b[0mroot\u001b[0m\u001b[0;34m)\u001b[0m\u001b[0;34m\u001b[0m\u001b[0;34m\u001b[0m\u001b[0m\n\u001b[0m\u001b[1;32m   1974\u001b[0m \u001b[0;34m\u001b[0m\u001b[0m\n\u001b[1;32m   1975\u001b[0m         \u001b[0;32mif\u001b[0m \u001b[0mparams\u001b[0m \u001b[0;32mis\u001b[0m \u001b[0;32mNone\u001b[0m \u001b[0;32mor\u001b[0m \u001b[0mlen\u001b[0m\u001b[0;34m(\u001b[0m\u001b[0mparams\u001b[0m\u001b[0;34m)\u001b[0m \u001b[0;34m==\u001b[0m \u001b[0;36m0\u001b[0m\u001b[0;34m:\u001b[0m\u001b[0;34m\u001b[0m\u001b[0;34m\u001b[0m\u001b[0m\n",
            "\u001b[0;32m/usr/local/lib/python3.12/dist-packages/getdist/plots.py\u001b[0m in \u001b[0;36mparam_names_for_root\u001b[0;34m(self, root)\u001b[0m\n\u001b[1;32m    939\u001b[0m         \"\"\"\n\u001b[1;32m    940\u001b[0m         \u001b[0;32mif\u001b[0m \u001b[0mroot\u001b[0m \u001b[0;32mnot\u001b[0m \u001b[0;32min\u001b[0m \u001b[0mself\u001b[0m\u001b[0;34m.\u001b[0m\u001b[0mparam_name_sets\u001b[0m\u001b[0;34m:\u001b[0m\u001b[0;34m\u001b[0m\u001b[0;34m\u001b[0m\u001b[0m\n\u001b[0;32m--> 941\u001b[0;31m             self.param_name_sets[root] = self.sample_analyser.params_for_root(\n\u001b[0m\u001b[1;32m    942\u001b[0m                 \u001b[0mroot\u001b[0m\u001b[0;34m,\u001b[0m \u001b[0mlabel_params\u001b[0m\u001b[0;34m=\u001b[0m\u001b[0mself\u001b[0m\u001b[0;34m.\u001b[0m\u001b[0msettings\u001b[0m\u001b[0;34m.\u001b[0m\u001b[0mparam_names_for_labels\u001b[0m\u001b[0;34m\u001b[0m\u001b[0;34m\u001b[0m\u001b[0m\n\u001b[1;32m    943\u001b[0m             )\n",
            "\u001b[0;32m/usr/local/lib/python3.12/dist-packages/getdist/plots.py\u001b[0m in \u001b[0;36mparams_for_root\u001b[0;34m(self, root, label_params)\u001b[0m\n\u001b[1;32m    668\u001b[0m             \u001b[0mnames\u001b[0m \u001b[0;34m=\u001b[0m \u001b[0mroot\u001b[0m\u001b[0;34m.\u001b[0m\u001b[0mparamNames\u001b[0m\u001b[0;34m\u001b[0m\u001b[0;34m\u001b[0m\u001b[0m\n\u001b[1;32m    669\u001b[0m         \u001b[0;32melse\u001b[0m\u001b[0;34m:\u001b[0m\u001b[0;34m\u001b[0m\u001b[0;34m\u001b[0m\u001b[0m\n\u001b[0;32m--> 670\u001b[0;31m             \u001b[0msamples\u001b[0m \u001b[0;34m=\u001b[0m \u001b[0mself\u001b[0m\u001b[0;34m.\u001b[0m\u001b[0msamples_for_root\u001b[0m\u001b[0;34m(\u001b[0m\u001b[0mroot\u001b[0m\u001b[0;34m)\u001b[0m\u001b[0;34m\u001b[0m\u001b[0;34m\u001b[0m\u001b[0m\n\u001b[0m\u001b[1;32m    671\u001b[0m             \u001b[0mnames\u001b[0m \u001b[0;34m=\u001b[0m \u001b[0msamples\u001b[0m\u001b[0;34m.\u001b[0m\u001b[0mgetParamNames\u001b[0m\u001b[0;34m(\u001b[0m\u001b[0;34m)\u001b[0m\u001b[0;34m\u001b[0m\u001b[0;34m\u001b[0m\u001b[0m\n\u001b[1;32m    672\u001b[0m         \u001b[0;32mif\u001b[0m \u001b[0mlabel_params\u001b[0m \u001b[0;32mis\u001b[0m \u001b[0;32mnot\u001b[0m \u001b[0;32mNone\u001b[0m\u001b[0;34m:\u001b[0m\u001b[0;34m\u001b[0m\u001b[0;34m\u001b[0m\u001b[0m\n",
            "\u001b[0;32m/usr/local/lib/python3.12/dist-packages/getdist/plots.py\u001b[0m in \u001b[0;36msamples_for_root\u001b[0;34m(self, root, file_root, cache, settings)\u001b[0m\n\u001b[1;32m    514\u001b[0m             \u001b[0;32mraise\u001b[0m \u001b[0mGetDistPlotError\u001b[0m\u001b[0;34m(\u001b[0m\u001b[0;34m\"MixtureND is a distribution not a set of samples\"\u001b[0m\u001b[0;34m)\u001b[0m\u001b[0;34m\u001b[0m\u001b[0;34m\u001b[0m\u001b[0m\n\u001b[1;32m    515\u001b[0m         \u001b[0;32melif\u001b[0m \u001b[0;32mnot\u001b[0m \u001b[0misinstance\u001b[0m\u001b[0;34m(\u001b[0m\u001b[0mroot\u001b[0m\u001b[0;34m,\u001b[0m \u001b[0mstr\u001b[0m\u001b[0;34m)\u001b[0m\u001b[0;34m:\u001b[0m\u001b[0;34m\u001b[0m\u001b[0;34m\u001b[0m\u001b[0m\n\u001b[0;32m--> 516\u001b[0;31m             \u001b[0;32mraise\u001b[0m \u001b[0mGetDistPlotError\u001b[0m\u001b[0;34m(\u001b[0m\u001b[0;34m\"Root names must be strings (or MCSamples instances)\"\u001b[0m\u001b[0;34m)\u001b[0m\u001b[0;34m\u001b[0m\u001b[0;34m\u001b[0m\u001b[0m\n\u001b[0m\u001b[1;32m    517\u001b[0m         \u001b[0;32mif\u001b[0m \u001b[0mroot\u001b[0m \u001b[0;32min\u001b[0m \u001b[0mself\u001b[0m\u001b[0;34m.\u001b[0m\u001b[0mmcsamples\u001b[0m \u001b[0;32mand\u001b[0m \u001b[0mcache\u001b[0m\u001b[0;34m:\u001b[0m\u001b[0;34m\u001b[0m\u001b[0;34m\u001b[0m\u001b[0m\n\u001b[1;32m    518\u001b[0m             \u001b[0;32mreturn\u001b[0m \u001b[0mself\u001b[0m\u001b[0;34m.\u001b[0m\u001b[0mmcsamples\u001b[0m\u001b[0;34m[\u001b[0m\u001b[0mroot\u001b[0m\u001b[0;34m]\u001b[0m\u001b[0;34m\u001b[0m\u001b[0;34m\u001b[0m\u001b[0m\n",
            "\u001b[0;31mGetDistPlotError\u001b[0m: Root names must be strings (or MCSamples instances)"
          ]
        }
      ]
    },
    {
      "cell_type": "code",
      "source": [],
      "metadata": {
        "id": "enefIJPTR8hs"
      },
      "execution_count": null,
      "outputs": []
    }
  ],
  "metadata": {
    "kernelspec": {
      "display_name": "Python 3",
      "language": "python",
      "name": "python3"
    },
    "language_info": {
      "codemirror_mode": {
        "name": "ipython",
        "version": 3
      },
      "file_extension": ".py",
      "mimetype": "text/x-python",
      "name": "python",
      "nbconvert_exporter": "python",
      "pygments_lexer": "ipython3",
      "version": "3.7.6"
    },
    "colab": {
      "provenance": [],
      "include_colab_link": true
    }
  },
  "nbformat": 4,
  "nbformat_minor": 0
}