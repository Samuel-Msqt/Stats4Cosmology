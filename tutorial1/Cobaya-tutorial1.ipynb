{
  "cells": [
    {
      "cell_type": "markdown",
      "metadata": {
        "id": "view-in-github",
        "colab_type": "text"
      },
      "source": [
        "<a href=\"https://colab.research.google.com/github/Samuel-Msqt/Stats4Cosmology/blob/main/tutorial1/Cobaya-tutorial1.ipynb\" target=\"_parent\"><img src=\"https://colab.research.google.com/assets/colab-badge.svg\" alt=\"Open In Colab\"/></a>"
      ]
    },
    {
      "cell_type": "code",
      "execution_count": 2,
      "metadata": {
        "id": "qR4M6m9EL33h"
      },
      "outputs": [],
      "source": [
        "# General python imports\n",
        "import numpy as np\n",
        "import matplotlib.pyplot as plt\n",
        "from scipy import stats\n",
        "\n",
        "%matplotlib inline\n",
        "%config InlineBackend.figure_format = 'retina'"
      ]
    },
    {
      "cell_type": "code",
      "source": [
        "!pip install cobaya"
      ],
      "metadata": {
        "colab": {
          "base_uri": "https://localhost:8080/"
        },
        "id": "hr_mZhQGL6hr",
        "outputId": "0c4bcd20-3c35-41c6-f9d8-a9c48be37dca"
      },
      "execution_count": 3,
      "outputs": [
        {
          "output_type": "stream",
          "name": "stdout",
          "text": [
            "Collecting cobaya\n",
            "  Downloading cobaya-3.5.7.tar.gz (461 kB)\n",
            "\u001b[?25l     \u001b[90m━━━━━━━━━━━━━━━━━━━━━━━━━━━━━━━━━━━━━━━━\u001b[0m \u001b[32m0.0/461.9 kB\u001b[0m \u001b[31m?\u001b[0m eta \u001b[36m-:--:--\u001b[0m\r\u001b[2K     \u001b[91m━━━━━━━━\u001b[0m\u001b[91m╸\u001b[0m\u001b[90m━━━━━━━━━━━━━━━━━━━━━━━━━━━━━━\u001b[0m \u001b[32m102.4/461.9 kB\u001b[0m \u001b[31m3.0 MB/s\u001b[0m eta \u001b[36m0:00:01\u001b[0m\r\u001b[2K     \u001b[91m━━━━━━━━━━━━━━━━━━━━━━━━━━━━━━━━━━━━━━\u001b[0m\u001b[91m╸\u001b[0m \u001b[32m460.8/461.9 kB\u001b[0m \u001b[31m8.0 MB/s\u001b[0m eta \u001b[36m0:00:01\u001b[0m\r\u001b[2K     \u001b[90m━━━━━━━━━━━━━━━━━━━━━━━━━━━━━━━━━━━━━━━\u001b[0m \u001b[32m461.9/461.9 kB\u001b[0m \u001b[31m6.2 MB/s\u001b[0m eta \u001b[36m0:00:00\u001b[0m\n",
            "\u001b[?25h  Installing build dependencies ... \u001b[?25l\u001b[?25hdone\n",
            "  Getting requirements to build wheel ... \u001b[?25l\u001b[?25hdone\n",
            "  Preparing metadata (pyproject.toml) ... \u001b[?25l\u001b[?25hdone\n",
            "Requirement already satisfied: numpy>=1.17.0 in /usr/local/lib/python3.12/dist-packages (from cobaya) (2.0.2)\n",
            "Requirement already satisfied: scipy>=1.5 in /usr/local/lib/python3.12/dist-packages (from cobaya) (1.16.1)\n",
            "Requirement already satisfied: pandas>=1.0.1 in /usr/local/lib/python3.12/dist-packages (from cobaya) (2.2.2)\n",
            "Requirement already satisfied: PyYAML>=5.1 in /usr/local/lib/python3.12/dist-packages (from cobaya) (6.0.2)\n",
            "Requirement already satisfied: requests>=2.18 in /usr/local/lib/python3.12/dist-packages (from cobaya) (2.32.4)\n",
            "Collecting py-bobyqa>=1.4 (from cobaya)\n",
            "  Downloading Py_BOBYQA-1.5.0-py3-none-any.whl.metadata (9.5 kB)\n",
            "Collecting GetDist>=1.3.1 (from cobaya)\n",
            "  Downloading getdist-1.7.2-py3-none-any.whl.metadata (13 kB)\n",
            "Collecting fuzzywuzzy>=0.17 (from cobaya)\n",
            "  Downloading fuzzywuzzy-0.18.0-py2.py3-none-any.whl.metadata (4.9 kB)\n",
            "Requirement already satisfied: packaging in /usr/local/lib/python3.12/dist-packages (from cobaya) (25.0)\n",
            "Requirement already satisfied: tqdm in /usr/local/lib/python3.12/dist-packages (from cobaya) (4.67.1)\n",
            "Collecting portalocker>=2.3.0 (from cobaya)\n",
            "  Downloading portalocker-3.2.0-py3-none-any.whl.metadata (8.7 kB)\n",
            "Requirement already satisfied: dill>=0.3.3 in /usr/local/lib/python3.12/dist-packages (from cobaya) (0.3.8)\n",
            "Requirement already satisfied: typing_extensions in /usr/local/lib/python3.12/dist-packages (from cobaya) (4.15.0)\n",
            "Requirement already satisfied: matplotlib!=3.5.0,>=2.2.0 in /usr/local/lib/python3.12/dist-packages (from GetDist>=1.3.1->cobaya) (3.10.0)\n",
            "Requirement already satisfied: python-dateutil>=2.8.2 in /usr/local/lib/python3.12/dist-packages (from pandas>=1.0.1->cobaya) (2.9.0.post0)\n",
            "Requirement already satisfied: pytz>=2020.1 in /usr/local/lib/python3.12/dist-packages (from pandas>=1.0.1->cobaya) (2025.2)\n",
            "Requirement already satisfied: tzdata>=2022.7 in /usr/local/lib/python3.12/dist-packages (from pandas>=1.0.1->cobaya) (2025.2)\n",
            "Requirement already satisfied: setuptools in /usr/local/lib/python3.12/dist-packages (from py-bobyqa>=1.4->cobaya) (75.2.0)\n",
            "Requirement already satisfied: charset_normalizer<4,>=2 in /usr/local/lib/python3.12/dist-packages (from requests>=2.18->cobaya) (3.4.3)\n",
            "Requirement already satisfied: idna<4,>=2.5 in /usr/local/lib/python3.12/dist-packages (from requests>=2.18->cobaya) (3.10)\n",
            "Requirement already satisfied: urllib3<3,>=1.21.1 in /usr/local/lib/python3.12/dist-packages (from requests>=2.18->cobaya) (2.5.0)\n",
            "Requirement already satisfied: certifi>=2017.4.17 in /usr/local/lib/python3.12/dist-packages (from requests>=2.18->cobaya) (2025.8.3)\n",
            "Requirement already satisfied: contourpy>=1.0.1 in /usr/local/lib/python3.12/dist-packages (from matplotlib!=3.5.0,>=2.2.0->GetDist>=1.3.1->cobaya) (1.3.3)\n",
            "Requirement already satisfied: cycler>=0.10 in /usr/local/lib/python3.12/dist-packages (from matplotlib!=3.5.0,>=2.2.0->GetDist>=1.3.1->cobaya) (0.12.1)\n",
            "Requirement already satisfied: fonttools>=4.22.0 in /usr/local/lib/python3.12/dist-packages (from matplotlib!=3.5.0,>=2.2.0->GetDist>=1.3.1->cobaya) (4.59.1)\n",
            "Requirement already satisfied: kiwisolver>=1.3.1 in /usr/local/lib/python3.12/dist-packages (from matplotlib!=3.5.0,>=2.2.0->GetDist>=1.3.1->cobaya) (1.4.9)\n",
            "Requirement already satisfied: pillow>=8 in /usr/local/lib/python3.12/dist-packages (from matplotlib!=3.5.0,>=2.2.0->GetDist>=1.3.1->cobaya) (11.3.0)\n",
            "Requirement already satisfied: pyparsing>=2.3.1 in /usr/local/lib/python3.12/dist-packages (from matplotlib!=3.5.0,>=2.2.0->GetDist>=1.3.1->cobaya) (3.2.3)\n",
            "Requirement already satisfied: six>=1.5 in /usr/local/lib/python3.12/dist-packages (from python-dateutil>=2.8.2->pandas>=1.0.1->cobaya) (1.17.0)\n",
            "Downloading fuzzywuzzy-0.18.0-py2.py3-none-any.whl (18 kB)\n",
            "Downloading getdist-1.7.2-py3-none-any.whl (833 kB)\n",
            "\u001b[2K   \u001b[90m━━━━━━━━━━━━━━━━━━━━━━━━━━━━━━━━━━━━━━━━\u001b[0m \u001b[32m833.9/833.9 kB\u001b[0m \u001b[31m29.0 MB/s\u001b[0m eta \u001b[36m0:00:00\u001b[0m\n",
            "\u001b[?25hDownloading portalocker-3.2.0-py3-none-any.whl (22 kB)\n",
            "Downloading Py_BOBYQA-1.5.0-py3-none-any.whl (57 kB)\n",
            "\u001b[2K   \u001b[90m━━━━━━━━━━━━━━━━━━━━━━━━━━━━━━━━━━━━━━━━\u001b[0m \u001b[32m58.0/58.0 kB\u001b[0m \u001b[31m4.1 MB/s\u001b[0m eta \u001b[36m0:00:00\u001b[0m\n",
            "\u001b[?25hBuilding wheels for collected packages: cobaya\n",
            "  Building wheel for cobaya (pyproject.toml) ... \u001b[?25l\u001b[?25hdone\n",
            "  Created wheel for cobaya: filename=cobaya-3.5.7-py3-none-any.whl size=524717 sha256=c3c6e6f40ccca766fb5e5631b2b25bc9926db141dd52c7e16bb6420ad01be388\n",
            "  Stored in directory: /root/.cache/pip/wheels/69/a2/4e/7c7b30ae4a875356d00900a324af003fd5128bbe14d25a6a87\n",
            "Successfully built cobaya\n",
            "Installing collected packages: fuzzywuzzy, portalocker, py-bobyqa, GetDist, cobaya\n",
            "Successfully installed GetDist-1.7.2 cobaya-3.5.7 fuzzywuzzy-0.18.0 portalocker-3.2.0 py-bobyqa-1.5.0\n"
          ]
        }
      ]
    },
    {
      "cell_type": "code",
      "source": [
        "!cobaya-install cosmo -p ."
      ],
      "metadata": {
        "colab": {
          "base_uri": "https://localhost:8080/"
        },
        "id": "gVyrKTX8L9p_",
        "outputId": "56d5039e-ce9e-4962-a216-5672f10a86d1"
      },
      "execution_count": 4,
      "outputs": [
        {
          "output_type": "stream",
          "name": "stdout",
          "text": [
            "[install] Installing basic cosmological packages.\n",
            "[install] Installing external packages at '/content'\n",
            "[install] The installation path has been written into the global config file: /root/.config/cobaya/config.yaml\n",
            "\n",
            "================================================================================\n",
            "theory:camb\n",
            "================================================================================\n",
            "\n",
            "[install] Checking if dependencies have already been installed...\n",
            "[install] Check found no existing installation\n",
            "[install] (If you expected this to be already installed, re-run `cobaya-install` with --debug to get more verbose output.)\n",
            "[install] Installing...\n",
            "[CAMB] Installing pre-requisites...\n",
            "[CAMB] Downloading camb...\n",
            "13.3MiB [00:00, 18.6MiB/s]\n",
            "[CAMB] Downloaded filename CAMB-master.tar.gz\n",
            "[CAMB] CAMB master downloaded and decompressed correctly.\n",
            "[CAMB] Compiling camb...\n",
            "[CAMB] configuration error: `project.license` must be valid exactly by one definition (2 matches found):\n",
            "\n",
            "    - keys:\n",
            "        'file': {type: string}\n",
            "      required: ['file']\n",
            "    - keys:\n",
            "        'text': {type: string}\n",
            "      required: ['text']\n",
            "\n",
            "DESCRIPTION:\n",
            "    `Project license <https://peps.python.org/pep-0621/#license>`_.\n",
            "\n",
            "GIVEN VALUE:\n",
            "    \"LicenseRef-LGPLv3-arxiv\"\n",
            "\n",
            "OFFENDING RULE: 'oneOf'\n",
            "\n",
            "DEFINITION:\n",
            "    {\n",
            "        \"oneOf\": [\n",
            "            {\n",
            "                \"properties\": {\n",
            "                    \"file\": {\n",
            "                        \"type\": \"string\",\n",
            "                        \"$$description\": [\n",
            "                            \"Relative path to the file (UTF-8) which contains the license for the\",\n",
            "                            \"project.\"\n",
            "                        ]\n",
            "                    }\n",
            "                },\n",
            "                \"required\": [\n",
            "                    \"file\"\n",
            "                ]\n",
            "            },\n",
            "            {\n",
            "                \"properties\": {\n",
            "                    \"text\": {\n",
            "                        \"type\": \"string\",\n",
            "                        \"$$description\": [\n",
            "                            \"The license of the project whose meaning is that of the\",\n",
            "                            \"`License field from the core metadata\",\n",
            "                            \"<https://packaging.python.org/specifications/core-metadata/#license>`_.\"\n",
            "                        ]\n",
            "                    }\n",
            "                },\n",
            "                \"required\": [\n",
            "                    \"text\"\n",
            "                ]\n",
            "            }\n",
            "        ]\n",
            "    }\n",
            "\n",
            "[CAMB] Traceback (most recent call last):\n",
            "  File \"/content/code/CAMB/setup.py\", line 288, in <module>\n",
            "    setup(\n",
            "  File \"/usr/local/lib/python3.12/dist-packages/setuptools/__init__.py\", line 117, in setup\n",
            "    return distutils.core.setup(**attrs)\n",
            "           ^^^^^^^^^^^^^^^^^^^^^^^^^^^^^\n",
            "  File \"/usr/local/lib/python3.12/dist-packages/setuptools/_distutils/core.py\", line 157, in setup\n",
            "    dist.parse_config_files()\n",
            "  File \"/usr/local/lib/python3.12/dist-packages/setuptools/dist.py\", line 647, in parse_config_files\n",
            "    pyprojecttoml.apply_configuration(self, filename, ignore_option_errors)\n",
            "  File \"/usr/local/lib/python3.12/dist-packages/setuptools/config/pyprojecttoml.py\", line 71, in apply_configuration\n",
            "    config = read_configuration(filepath, True, ignore_option_errors, dist)\n",
            "             ^^^^^^^^^^^^^^^^^^^^^^^^^^^^^^^^^^^^^^^^^^^^^^^^^^^^^^^^^^^^^^\n",
            "  File \"/usr/local/lib/python3.12/dist-packages/setuptools/config/pyprojecttoml.py\", line 139, in read_configuration\n",
            "    validate(subset, filepath)\n",
            "  File \"/usr/local/lib/python3.12/dist-packages/setuptools/config/pyprojecttoml.py\", line 60, in validate\n",
            "    raise ValueError(f\"{error}\\n{summary}\") from None\n",
            "ValueError: invalid pyproject.toml config: `project.license`.\n",
            "configuration error: `project.license` must be valid exactly by one definition (2 matches found):\n",
            "\n",
            "    - keys:\n",
            "        'file': {type: string}\n",
            "      required: ['file']\n",
            "    - keys:\n",
            "        'text': {type: string}\n",
            "      required: ['text']\n",
            "\n",
            "\n",
            "[CAMB] *ERROR* Compilation failed!\n",
            "[install] *ERROR* Installation failed! Look at the error messages above. Solve them and try again, or, if you are unable to solve them, install the packages required by this component manually.\n",
            "\n",
            "================================================================================\n",
            "theory:classy\n",
            "================================================================================\n",
            "\n",
            "[install] Checking if dependencies have already been installed...\n",
            "[install] Check found no existing installation\n",
            "[install] (If you expected this to be already installed, re-run `cobaya-install` with --debug to get more verbose output.)\n",
            "[install] Installing...\n",
            "[classy] Installing pre-requisites...\n",
            "[classy] Downloading classy...\n",
            "100% 7.62M/7.62M [00:00<00:00, 62.9MiB/s]\n",
            "[classy] Downloaded filename class_public-master.tar.gz\n",
            "[classy] class_public master downloaded and decompressed correctly.\n",
            "[classy] Compiling classy...\n",
            "[install] Successfully installed! Let's check it...\n",
            "Traceback (most recent call last):\n",
            "  File \"/usr/local/lib/python3.12/dist-packages/cobaya/install.py\", line 331, in install\n",
            "    successfully_installed = reloaded_is_installed(\n",
            "                             ^^^^^^^^^^^^^^^^^^^^^^\n",
            "  File \"/usr/local/lib/python3.12/dist-packages/cobaya/theories/classy/classy.py\", line 783, in is_installed\n",
            "    return bool(load_external_module(\n",
            "                ^^^^^^^^^^^^^^^^^^^^^\n",
            "  File \"/usr/local/lib/python3.12/dist-packages/cobaya/component.py\", line 852, in load_external_module\n",
            "    module = _bare_load_external_module(not_installed_level=\"debug\", **load_kwargs)\n",
            "             ^^^^^^^^^^^^^^^^^^^^^^^^^^^^^^^^^^^^^^^^^^^^^^^^^^^^^^^^^^^^^^^^^^^^^^\n",
            "  File \"/usr/local/lib/python3.12/dist-packages/cobaya/component.py\", line 787, in _bare_load_external_module\n",
            "    return load_module(name, path=import_path, min_version=min_version,\n",
            "           ^^^^^^^^^^^^^^^^^^^^^^^^^^^^^^^^^^^^^^^^^^^^^^^^^^^^^^^^^^^^\n",
            "  File \"/usr/local/lib/python3.12/dist-packages/cobaya/tools.py\", line 195, in load_module\n",
            "    check_module_version(module, str(min_version))\n",
            "  File \"/usr/local/lib/python3.12/dist-packages/cobaya/tools.py\", line 157, in check_module_version\n",
            "    raise VersionCheckError(\n",
            "cobaya.tools.VersionCheckError: Module classy at /content/code/classy/build/lib.linux-x86_64-cpython-312/classy is version (non-given) but the minimum required version is v3.2.1.\n",
            "[install] *ERROR* Installation apparently worked, but the subsequent installation test failed! This does not always mean that there was an actual error, and is sometimes fixed simply by running the installer again. If not, look closely at the error messages above, or re-run with --debug for more verbose output. If you are unable to fix the issues above, try installing the packages required by this component manually.\n",
            "\n",
            "================================================================================\n",
            "likelihood:planck_2018_lowl.TT\n",
            "================================================================================\n",
            "\n",
            "[install] Checking if dependencies have already been installed...\n",
            "[install] Check found no existing installation\n",
            "[install] (If you expected this to be already installed, re-run `cobaya-install` with --debug to get more verbose output.)\n",
            "[install] Installing...\n",
            "[planck_2018_lowl.TT] Downloading CobayaSampler/planck_native_data data...\n",
            "100% 5.27M/5.27M [00:00<00:00, 25.0MiB/s]\n",
            "[planck_2018_lowl.TT] Downloaded filename planck_2018_lowT.zip\n",
            "[planck_2018_lowl.TT] planck_2018_lowT.zip from planck_native_data v1 downloaded and decompressed correctly.\n",
            "[install] Successfully installed! Let's check it...\n",
            "[install] Installation check successful.\n",
            "\n",
            "================================================================================\n",
            "likelihood:planck_2018_lowl.EE\n",
            "================================================================================\n",
            "\n",
            "[install] Checking if dependencies have already been installed...\n",
            "[install] Check found no existing installation\n",
            "[install] (If you expected this to be already installed, re-run `cobaya-install` with --debug to get more verbose output.)\n",
            "[install] Installing...\n",
            "[planck_2018_lowl.EE] Downloading CobayaSampler/planck_native_data data...\n",
            "100% 822k/822k [00:00<00:00, 13.7MiB/s]\n",
            "[planck_2018_lowl.EE] Downloaded filename planck_2018_lowE.zip\n",
            "[planck_2018_lowl.EE] planck_2018_lowE.zip from planck_native_data v1 downloaded and decompressed correctly.\n",
            "[install] Successfully installed! Let's check it...\n",
            "[install] Installation check successful.\n",
            "\n",
            "================================================================================\n",
            "likelihood:planck_NPIPE_highl_CamSpec.TTTEEE\n",
            "================================================================================\n",
            "\n",
            "[install] Checking if dependencies have already been installed...\n",
            "[install] Check found no existing installation\n",
            "[install] (If you expected this to be already installed, re-run `cobaya-install` with --debug to get more verbose output.)\n",
            "[install] Installing...\n",
            "[planck_NPIPE_highl_CamSpec.TTTEEE] Downloading CobayaSampler/planck_native_data data...\n",
            "100% 81.5M/81.5M [00:00<00:00, 203MiB/s]\n",
            "[planck_NPIPE_highl_CamSpec.TTTEEE] Downloaded filename CamSpec_NPIPE.zip\n",
            "[planck_NPIPE_highl_CamSpec.TTTEEE] CamSpec_NPIPE.zip from planck_native_data v1 downloaded and decompressed correctly.\n",
            "[install] Successfully installed! Let's check it...\n",
            "[install] Installation check successful.\n",
            "\n",
            "================================================================================\n",
            "likelihood:planckpr4lensing\n",
            "================================================================================\n",
            "\n",
            "[install] *ERROR* 'planckpr4lensing' could not be found. Tried loading external classes. No component path was given.\n",
            "[install] Downloading code from github (carronj/planck_PR4_lensing)\n",
            "14.9MiB [00:02, 6.93MiB/s]\n",
            "[install] Downloaded filename planck_PR4_lensing-main.tar.gz\n",
            "[install] planck_PR4_lensing main downloaded and decompressed correctly.\n",
            "[install] pip installing .\n",
            "  Installing build dependencies ... \u001b[?25l\u001b[?25hdone\n",
            "  Getting requirements to build wheel ... \u001b[?25l\u001b[?25hdone\n",
            "  Preparing metadata (pyproject.toml) ... \u001b[?25l\u001b[?25hdone\n",
            "  Building wheel for planckpr4lensing (pyproject.toml) ... \u001b[?25l\u001b[?25hdone\n",
            "[install] Checking if dependencies have already been installed...\n",
            "[install] External dependencies for this component already installed.\n",
            "[install] Doing nothing.\n",
            "\n",
            "================================================================================\n",
            "likelihood:planck_2018_lensing.native\n",
            "================================================================================\n",
            "\n",
            "[install] Checking if dependencies have already been installed...\n",
            "[install] Check found no existing installation\n",
            "[install] (If you expected this to be already installed, re-run `cobaya-install` with --debug to get more verbose output.)\n",
            "[install] Installing...\n",
            "[planck_2018_lensing.native] Downloading CobayaSampler/planck_supp_data_and_covmats data...\n",
            "3.19MiB [00:00, 7.16MiB/s]\n",
            "[planck_2018_lensing.native] Downloaded filename planck_supp_data_and_covmats-2.1.tar.gz\n",
            "[planck_2018_lensing.native] planck_supp_data_and_covmats v2.1 downloaded and decompressed correctly.\n",
            "[install] Successfully installed! Let's check it...\n",
            "[install] Installation check successful.\n",
            "\n",
            "================================================================================\n",
            "likelihood:sn.pantheon\n",
            "================================================================================\n",
            "\n",
            "[install] Checking if dependencies have already been installed...\n",
            "[install] Check found no existing installation\n",
            "[install] (If you expected this to be already installed, re-run `cobaya-install` with --debug to get more verbose output.)\n",
            "[install] Installing...\n",
            "[sn.pantheon] Downloading CobayaSampler/sn_data data...\n",
            "51.9MiB [00:08, 6.70MiB/s]\n",
            "[sn.pantheon] Downloaded filename sn_data-1.6.tar.gz\n",
            "[sn.pantheon] sn_data v1.6 downloaded and decompressed correctly.\n",
            "[install] Successfully installed! Let's check it...\n",
            "[install] Installation check successful.\n",
            "\n",
            "================================================================================\n",
            "likelihood:bao.sdss_dr12_consensus_final\n",
            "================================================================================\n",
            "\n",
            "[install] Checking if dependencies have already been installed...\n",
            "[install] Check found no existing installation\n",
            "[install] (If you expected this to be already installed, re-run `cobaya-install` with --debug to get more verbose output.)\n",
            "[install] Installing...\n",
            "[bao.sdss_dr12_consensus_final] Downloading CobayaSampler/bao_data data...\n",
            "10.6MiB [00:01, 7.56MiB/s]\n",
            "[bao.sdss_dr12_consensus_final] Downloaded filename bao_data-2.6.tar.gz\n",
            "[bao.sdss_dr12_consensus_final] bao_data v2.6 downloaded and decompressed correctly.\n",
            "[install] Successfully installed! Let's check it...\n",
            "[install] Installation check successful.\n",
            "\n",
            "================================================================================\n",
            "likelihood:des_y1.joint\n",
            "================================================================================\n",
            "\n",
            "[install] Checking if dependencies have already been installed...\n",
            "[install] Check found no existing installation\n",
            "[install] (If you expected this to be already installed, re-run `cobaya-install` with --debug to get more verbose output.)\n",
            "[install] Installing...\n",
            "[des_y1.joint] Downloading CobayaSampler/des_data data...\n",
            "2.83MiB [00:00, 6.10MiB/s]\n",
            "[des_y1.joint] Downloaded filename des_data-1.0.tar.gz\n",
            "[des_y1.joint] des_data v1.0 downloaded and decompressed correctly.\n",
            "[install] Successfully installed! Let's check it...\n",
            "[install] Installation check successful.\n",
            "\n",
            "================================================================================\n",
            "* Summary * \n",
            "================================================================================\n",
            "\n",
            "[install] *ERROR* The installation (or installation test) of some component(s) has failed: \n",
            " - theory:camb\n",
            " - theory:classy\n",
            "Check output of the installer of each component above for precise error info.\n",
            "\n",
            "[exception handler] ---------------------------------------\n",
            "\n",
            "Traceback (most recent call last):\n",
            "  File \"/usr/local/bin/cobaya-install\", line 8, in <module>\n",
            "    sys.exit(install_script())\n",
            "             ^^^^^^^^^^^^^^^^\n",
            "  File \"/usr/local/lib/python3.12/dist-packages/cobaya/install.py\", line 648, in install_script\n",
            "    install(*infos, path=getattr(arguments, packages_path_arg), logger=logger,\n",
            "  File \"/usr/local/lib/python3.12/dist-packages/cobaya/install.py\", line 366, in install\n",
            "    raise LoggedError(\n",
            "cobaya.log.LoggedError: The installation (or installation test) of some component(s) has failed: \n",
            " - theory:camb\n",
            " - theory:classy\n",
            "Check output of the installer of each component above for precise error info.\n",
            "\n",
            "-------------------------------------------------------------\n",
            "\n"
          ]
        }
      ]
    },
    {
      "cell_type": "code",
      "source": [
        "!pip install camb"
      ],
      "metadata": {
        "colab": {
          "base_uri": "https://localhost:8080/"
        },
        "id": "C9iuCrdNPThO",
        "outputId": "d1d2acfe-6a6c-4fc6-950b-659c9ae9df7a"
      },
      "execution_count": 5,
      "outputs": [
        {
          "output_type": "stream",
          "name": "stdout",
          "text": [
            "Collecting camb\n",
            "  Downloading camb-1.6.4-py3-none-manylinux_2_27_x86_64.manylinux_2_28_x86_64.whl.metadata (3.0 kB)\n",
            "Requirement already satisfied: numpy>=1.22 in /usr/local/lib/python3.12/dist-packages (from camb) (2.0.2)\n",
            "Requirement already satisfied: scipy>=1.0 in /usr/local/lib/python3.12/dist-packages (from camb) (1.16.1)\n",
            "Requirement already satisfied: sympy>=1.0 in /usr/local/lib/python3.12/dist-packages (from camb) (1.13.3)\n",
            "Requirement already satisfied: packaging>=24.2 in /usr/local/lib/python3.12/dist-packages (from camb) (25.0)\n",
            "Requirement already satisfied: mpmath<1.4,>=1.1.0 in /usr/local/lib/python3.12/dist-packages (from sympy>=1.0->camb) (1.3.0)\n",
            "Downloading camb-1.6.4-py3-none-manylinux_2_27_x86_64.manylinux_2_28_x86_64.whl (2.3 MB)\n",
            "\u001b[2K   \u001b[90m━━━━━━━━━━━━━━━━━━━━━━━━━━━━━━━━━━━━━━━━\u001b[0m \u001b[32m2.3/2.3 MB\u001b[0m \u001b[31m20.1 MB/s\u001b[0m eta \u001b[36m0:00:00\u001b[0m\n",
            "\u001b[?25hInstalling collected packages: camb\n",
            "Successfully installed camb-1.6.4\n"
          ]
        }
      ]
    },
    {
      "cell_type": "markdown",
      "metadata": {
        "id": "qwTgYxRFL33j"
      },
      "source": [
        "# Attention:\n",
        "\n",
        "Keep always the Cobaya documentation open: https://cobaya.readthedocs.io"
      ]
    },
    {
      "cell_type": "markdown",
      "metadata": {
        "id": "onqfcQlDL33k"
      },
      "source": [
        "# Exercise 1:\n",
        "\n",
        "### Use the Metropolis-Hastings MCMC sampler of Cobaya to sample a simple posterior distribution\n",
        "\n",
        "In this exercise, we aim to sample the posterior distribution corresponding to the product of a gaussian mixture likelihood in Cobaya (see https://cobaya.readthedocs.io/en/latest/likelihood_gaussian_mixture.html) using simple priors for the parameters.\n",
        "\n",
        "For that, you need to fill up the blocks `likelihood`, `params` and `sampler` of the configuration dictionary and then run Cobaya."
      ]
    },
    {
      "cell_type": "code",
      "execution_count": 1,
      "metadata": {
        "id": "kZUzl5qLL33l"
      },
      "outputs": [],
      "source": [
        "# Fill the configuration dictionary called 'info' below\n",
        "\n",
        "info = {\n",
        "# We import the likelihood from Cobaya likelihood libraries\n",
        "#'likelihood': Cobaya's protected key of the input dictionary:\n",
        "    \"likelihood\": {\n",
        "        \"gaussian_mixture\": {\n",
        "            \"means\": [0.2, 0],\n",
        "            \"covs\": [[0.1, 0.05],\n",
        "                     [0.05, 0.2]],\n",
        "            \"derived\": True}},\n",
        "#'params': Cobaya's protected key of the input dictionary.\n",
        "# Includes the parameters that the user would like to sample over:\n",
        "    \"params\": dict([\n",
        "        (\"a\", {\n",
        "            \"prior\": {\"min\": -0.5, \"max\": 3},\n",
        "            \"latex\": r\"\\alpha\"}),\n",
        "        (\"b\", {\n",
        "            \"prior\": {\"dist\": \"norm\", \"loc\": 0, \"scale\": 1},\n",
        "            \"ref\": 0,\n",
        "            \"proposal\": 0.5,\n",
        "            \"latex\": r\"\\beta\"}),\n",
        "        (\"hyperparam_a\", {\n",
        "            \"latex\": r\"\\alpha^\\prime\"}),\n",
        "        (\"derived_b\", {\n",
        "            \"latex\": r\"\\beta^\\prime\"})]),\n",
        "# 'sampler': Cobaya's protected key of the input dictionary.\n",
        "# you can choose the sampler you want to use.\n",
        "# Check Cobaya's documentation to see the list of available samplers\n",
        "    \"sampler\": {\n",
        "        \"mcmc\": None},\n",
        "# 'force': Cobaya's protected key of the input dictionary.\n",
        "# 'force': True, Cobaya forces deleting the previous output files, if found, with the same name\n",
        "    \"force\": True,\n",
        "# 'debug': Cobaya's protected key of the input dictionary.\n",
        "# how much information you want Cobaya to print? If debug: True, it prints every single detail\n",
        "# that is going on internally in Cobaya\n",
        "    \"debug\": False,\n",
        "# 'output': Cobaya's protected key of the input dictionary.\n",
        "# Where are the results going to be stored, in case that the sampler produce output files?\n",
        "# For example: chains...\n",
        "# modify the path below within 'output' to choose a name and a directory for those files\n",
        "    \"output\": \"chains_exercise1\"}"
      ]
    },
    {
      "cell_type": "code",
      "execution_count": null,
      "metadata": {
        "scrolled": true,
        "id": "rZoMgnuRL33m"
      },
      "outputs": [],
      "source": [
        "#  We import Cobaya\n",
        "from cobaya.run import run\n",
        "# Now we run!\n",
        "updated_info, sampler = run(info)"
      ]
    },
    {
      "cell_type": "markdown",
      "metadata": {
        "id": "8vak9kLUL33n"
      },
      "source": [
        "### Plot the corresponding distribution using GetDist\n",
        "\n",
        "Do not forget to open the GetDist html DEMO: https://getdist.readthedocs.io/en/latest/plot_gallery.html"
      ]
    },
    {
      "cell_type": "code",
      "execution_count": null,
      "metadata": {
        "id": "NGDIm2z2L33n"
      },
      "outputs": [],
      "source": [
        "# Import corresponding modules from GetDist\n",
        "from getdist.mcsamples import loadMCSamples, MCSamplesFromCobaya\n",
        "import getdist.plots as gdplt\n",
        "\n",
        "# Load the chains and the updated config file from the previous run\n",
        "gd_sample = MCSamplesFromCobaya(updated_info, sampler.products()[\"sample\"])\n",
        "\n",
        "# Analyze the chains (print the mean and covmat according to GetDist documentation)\n",
        "mean = ...\n",
        "covmat = ...\n",
        "print(\"Mean:\")\n",
        "print(mean)\n",
        "print(\"Covariance matrix:\")\n",
        "print(covmat)\n",
        "\n",
        "# PLOT THE CHAINS (have a look at the DEMO above from GetDist)\n",
        "# The goal is to produce a triangle plot"
      ]
    },
    {
      "cell_type": "markdown",
      "metadata": {
        "id": "TIruuo_CL33n"
      },
      "source": [
        "### Now, let's change the likelihood above by a new gaussian ring likelihood defined on cartesian coordinates\n",
        "\n",
        "Cobaya allows to pass self-defined likelihoods as likelihoods of the `likelihood` block."
      ]
    },
    {
      "cell_type": "code",
      "execution_count": null,
      "metadata": {
        "id": "R5sNcf87L33n"
      },
      "outputs": [],
      "source": [
        "# We define the new likelihood as a python function\n",
        "# ATTENTION: Cobaya always needs to return the loglike!\n",
        "\n",
        "def gauss_ring_logp(x, y, mean_radius=1, std=0.02):\n",
        "    \"\"\"\n",
        "    Defines a gaussian ring likelihood on cartesian coordinater,\n",
        "    around some ``mean_radius`` and with some ``std``.\n",
        "    \"\"\"\n",
        "    return stats.norm.logpdf(np.sqrt(x**2 + y**2), loc=mean_radius, scale=std)"
      ]
    },
    {
      "cell_type": "code",
      "execution_count": null,
      "metadata": {
        "id": "CoGZNgMrL33o"
      },
      "outputs": [],
      "source": [
        "# Let's update the new likelihood in the info dictionary above\n",
        "\n",
        "info = {\"likelihood\": {\"ring\": ...}}"
      ]
    },
    {
      "cell_type": "code",
      "execution_count": null,
      "metadata": {
        "id": "ti8IFTbCL33o"
      },
      "outputs": [],
      "source": [
        "# The new likelihood requests two new parameters: x and y\n",
        "# Therefore, we need to define them in the params block\n",
        "# of the info dictionary above adding a new prior\n",
        "\n",
        "# Use uniform distributions as priors for x and y between 0 and 2\n",
        "\n",
        "info[\"params\"] = {...}"
      ]
    },
    {
      "cell_type": "code",
      "execution_count": null,
      "metadata": {
        "id": "GlpylNXuL33p"
      },
      "outputs": [],
      "source": [
        "# We add the polar coordinates theta and radius as derived parameters within the params block\n",
        "\n",
        "def get_r(x, y):\n",
        "    return np.sqrt(x ** 2 + y ** 2)\n",
        "\n",
        "\n",
        "def get_theta(x, y):\n",
        "    return np.arctan(y / x)\n",
        "\n",
        "# Update the params part of the info dictionary with these derived params"
      ]
    },
    {
      "cell_type": "code",
      "execution_count": null,
      "metadata": {
        "id": "MhKpo4taL33p"
      },
      "outputs": [],
      "source": [
        "# We add some new conditions in the sampler block, to give extra tries in case the mcmc gets stuck\n",
        "\n",
        "info[\"sampler\"] = {\"mcmc\": {\"Rminus1_stop\": 0.001, \"max_tries\": 1000}}\n",
        "\n",
        "# Re-run cobaya as we did above!"
      ]
    },
    {
      "cell_type": "markdown",
      "metadata": {
        "id": "yh1y7w_CL33q"
      },
      "source": [
        "### Replot the chains using GetDist\n",
        "\n",
        "We aim to create two triangle plots: one for the cartesian coordinates x and y, and another for the polar coordinates theta and radius"
      ]
    },
    {
      "cell_type": "code",
      "execution_count": null,
      "metadata": {
        "id": "4NtWM5JKL33q"
      },
      "outputs": [],
      "source": [
        "# Load the chains and the updated config file from the previous run\n",
        "# Make two triangle plots: one for the cartesian coordinates x and y,\n",
        "# and a different triangle plot for the radius and angle theta"
      ]
    },
    {
      "cell_type": "markdown",
      "metadata": {
        "id": "vUZYReS0L33q"
      },
      "source": [
        "# Exercise 2:\n",
        "\n",
        "### Make an evaluation of the full posterior of the parameters of $\\Lambda$CDM using BAO + SN + PLANCK18\n",
        "\n",
        "In this exercise, we aim to make an evaluation of the posterior distribution of the Standard Cosmological Model parameters using BAO + SN + PLANCK18 data.\n",
        "\n",
        "For that, you need to create a new config file speciying the corresponding likelihoods, the parameters of the $\\Lambda$CDM model and specify the sampler to `evaluate`.\n",
        "\n",
        "What about the `theory` module? Do you need to specify it? What would you choose?\n",
        "\n",
        "If you feel like working, you can change the sampler `evaluate` to the sampler `mcmc` to explore the full posterior distribution. Attention: it will take around 3 or 4 days. Let it run for one night so that tomorrow you can have a look at the chains.\n",
        "\n",
        "- Check this link to see how you can define the new corresponding config file: https://cobaya.readthedocs.io/en/latest/cosmo_basic_runs.html\n",
        "- All the corresponding likelihood names are within the section “COSMOLOGICAL LIKELIHOODS” at https://cobaya.readthedocs.io/en/latest/"
      ]
    },
    {
      "cell_type": "code",
      "execution_count": null,
      "metadata": {
        "id": "NdIxwRMJL33q"
      },
      "outputs": [],
      "source": [
        "# You need to start by defining a new config python dictionary\n",
        "# (or if you feel brave, you can write a script like a yaml format\n",
        "# and dump it as a python dictionary)\n",
        "\n",
        "# LCDM has 6 parameters, so you need to define at least 6 parameters\n",
        "# to be sampled from within the `params` block\n",
        "\n",
        "info = {...}"
      ]
    },
    {
      "cell_type": "code",
      "execution_count": null,
      "metadata": {
        "id": "yf90vqj-L33r"
      },
      "outputs": [],
      "source": []
    }
  ],
  "metadata": {
    "kernelspec": {
      "display_name": "Python 3",
      "language": "python",
      "name": "python3"
    },
    "language_info": {
      "codemirror_mode": {
        "name": "ipython",
        "version": 3
      },
      "file_extension": ".py",
      "mimetype": "text/x-python",
      "name": "python",
      "nbconvert_exporter": "python",
      "pygments_lexer": "ipython3",
      "version": "3.7.6"
    },
    "colab": {
      "provenance": [],
      "include_colab_link": true
    }
  },
  "nbformat": 4,
  "nbformat_minor": 0
}